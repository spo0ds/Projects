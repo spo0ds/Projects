{
 "cells": [
  {
   "cell_type": "code",
   "execution_count": null,
   "id": "a72741a2-c703-4790-a63d-ab2c774ac0cd",
   "metadata": {},
   "outputs": [],
   "source": [
    "# if we want to give our custom model to someone else then we'll be giving the directory my_ssd_mobnet \n",
    "# which conatains pipeline and checkpoints \n",
    "# we're going to load the latest checkpoints located inside my_ssd_mobnet directory"
   ]
  },
  {
   "cell_type": "code",
   "execution_count": null,
   "id": "dc6c9f10-d4dd-49b3-8314-733a64eb346d",
   "metadata": {},
   "outputs": [],
   "source": [
    "import os\n",
    "import tensorflow as tf\n",
    "from object_detection.utils import label_map_util\n",
    "from object_detection.utils import visualization_utils as viz_utils\n",
    "from object_detection.builders import model_builder\n",
    "from object_detection.utils import config_util"
   ]
  },
  {
   "cell_type": "code",
   "execution_count": null,
   "id": "001efbd6-d92c-48e8-b6c7-96cbbb84b15b",
   "metadata": {},
   "outputs": [],
   "source": [
    "CUSTOM_MODEL_NAME = 'my_ssd_mobnet' \n",
    "PIPELINE_CONFIG = os.path.join('TensorFlow', 'Workspace','models', CUSTOM_MODEL_NAME, 'pipeline.config')\n",
    "CHECKPOINT_PATH = os.path.join('TensorFlow', 'Workspace','models',CUSTOM_MODEL_NAME) "
   ]
  },
  {
   "cell_type": "code",
   "execution_count": null,
   "id": "43c8bda8-be83-47c4-9453-829ccff7d60b",
   "metadata": {},
   "outputs": [],
   "source": [
    "# Load pipeline config and build a detection model\n",
    "configs = config_util.get_configs_from_pipeline_file(PIPELINE_CONFIG)\n",
    "detection_model = model_builder.build(model_config=configs['model'], is_training=False)\n",
    "\n",
    "# Restore checkpoint\n",
    "ckpt = tf.compat.v2.train.Checkpoint(model=detection_model)\n",
    "ckpt.restore(os.path.join(CHECKPOINT_PATH, 'ckpt-9')).expect_partial()\n",
    "\n",
    "@tf.function\n",
    "def detect_fn(image):\n",
    "    image, shapes = detection_model.preprocess(image)\n",
    "    prediction_dict = detection_model.predict(image, shapes)\n",
    "    detections = detection_model.postprocess(prediction_dict, shapes)\n",
    "    return detections"
   ]
  },
  {
   "cell_type": "markdown",
   "id": "4c8edc9c-233b-4178-82ef-5c94d206d8ac",
   "metadata": {},
   "source": [
    "#### Detect from an Image"
   ]
  },
  {
   "cell_type": "code",
   "execution_count": null,
   "id": "a5fc8379-f1e3-4383-8711-83f095b63be7",
   "metadata": {},
   "outputs": [],
   "source": [
    "import cv2 \n",
    "import numpy as np\n",
    "from matplotlib import pyplot as plt\n",
    "%matplotlib inline"
   ]
  },
  {
   "cell_type": "code",
   "execution_count": null,
   "id": "ccdd0f3e-85fb-4ea8-b654-4e898862a384",
   "metadata": {},
   "outputs": [],
   "source": [
    "LABEL_MAP_NAME = 'label_map.pbtxt'\n",
    "ANNOTATION_PATH = os.path.join('TensorFlow', 'Workspace','annotations')\n",
    "LABELMAP = os.path.join(ANNOTATION_PATH, LABEL_MAP_NAME)"
   ]
  },
  {
   "cell_type": "code",
   "execution_count": null,
   "id": "eef0d249-6027-44eb-b850-d383f8e8150d",
   "metadata": {},
   "outputs": [],
   "source": [
    "category_index = label_map_util.create_category_index_from_labelmap(LABELMAP)"
   ]
  },
  {
   "cell_type": "code",
   "execution_count": null,
   "id": "c168e874-55e8-4087-916f-9a3e3cb23bd3",
   "metadata": {},
   "outputs": [],
   "source": [
    "IMAGE_PATH = os.path.join('TensorFlow', 'Workspace','Images')\n",
    "# 2021-06-13-084543\n",
    "# borrowed_from_train\n",
    "IMAGE_PATH = os.path.join(IMAGE_PATH, 'test', '2021-06-13-084543.jpg')\n",
    "print(IMAGE_PATH)"
   ]
  },
  {
   "cell_type": "raw",
   "id": "21c54fab-5d1f-455f-87c0-8afb57b7a6f7",
   "metadata": {},
   "source": [
    "# loading image into python \n",
    "img = cv2.imread(IMAGE_PATH)\n",
    "image_np = np.array(img)\n",
    "\n",
    "# converting image into tensors\n",
    "input_tensor = tf.convert_to_tensor(np.expand_dims(image_np, 0), dtype=tf.float32)\n",
    "detections = detect_fn(input_tensor) # running on detections\n",
    "\n",
    "# making those detections and visualizing it\n",
    "num_detections = int(detections.pop('num_detections'))\n",
    "detections = {key: value[0, :num_detections].numpy()\n",
    "              for key, value in detections.items()}\n",
    "detections['num_detections'] = num_detections\n",
    "\n",
    "# detection_classes should be ints.\n",
    "detections['detection_classes'] = detections['detection_classes'].astype(np.int64)\n",
    "\n",
    "label_id_offset = 1\n",
    "image_np_with_detections = image_np.copy()\n",
    "\n",
    "viz_utils.visualize_boxes_and_labels_on_image_array(\n",
    "            image_np_with_detections,\n",
    "            detections['detection_boxes'],\n",
    "            detections['detection_classes']+label_id_offset,\n",
    "            detections['detection_scores'],\n",
    "            category_index,\n",
    "            use_normalized_coordinates=True,\n",
    "            max_boxes_to_draw=5,\n",
    "            min_score_thresh=.8,\n",
    "            agnostic_mode=False)\n",
    "\n",
    "plt.imshow(cv2.cvtColor(image_np_with_detections, cv2.COLOR_BGR2RGB))\n",
    "plt.show()"
   ]
  },
  {
   "cell_type": "markdown",
   "id": "55562bd8-608b-42af-bcdd-c495a5451649",
   "metadata": {},
   "source": [
    "#### Real Time Detections from your Webcam¶\n"
   ]
  },
  {
   "cell_type": "code",
   "execution_count": null,
   "id": "359175e6-e506-4eb4-b843-efe8ea9b012d",
   "metadata": {},
   "outputs": [],
   "source": [
    "cap = cv2.VideoCapture(0)\n",
    "width = int(cap.get(cv2.CAP_PROP_FRAME_WIDTH))\n",
    "height = int(cap.get(cv2.CAP_PROP_FRAME_HEIGHT))\n",
    "\n",
    "while cap.isOpened(): \n",
    "    ret, frame = cap.read()\n",
    "    image_np = np.array(frame)\n",
    "    \n",
    "    input_tensor = tf.convert_to_tensor(np.expand_dims(image_np, 0), dtype=tf.float32)\n",
    "    detections = detect_fn(input_tensor)\n",
    "    \n",
    "    num_detections = int(detections.pop('num_detections'))\n",
    "    detections = {key: value[0, :num_detections].numpy()\n",
    "                  for key, value in detections.items()}\n",
    "    detections['num_detections'] = num_detections\n",
    "\n",
    "    # detection_classes should be ints.\n",
    "    detections['detection_classes'] = detections['detection_classes'].astype(np.int64)\n",
    "\n",
    "    label_id_offset = 1\n",
    "    image_np_with_detections = image_np.copy()\n",
    "\n",
    "    viz_utils.visualize_boxes_and_labels_on_image_array(\n",
    "                image_np_with_detections,\n",
    "                detections['detection_boxes'],\n",
    "                detections['detection_classes']+label_id_offset,\n",
    "                detections['detection_scores'],\n",
    "                category_index,\n",
    "                use_normalized_coordinates=True,\n",
    "                max_boxes_to_draw=5,\n",
    "                min_score_thresh=.8,\n",
    "                agnostic_mode=False)\n",
    "\n",
    "    cv2.imshow('object detection',  cv2.resize(image_np_with_detections, (800, 600)))\n",
    "    \n",
    "    if cv2.waitKey(10) & 0xFF == ord('q'):\n",
    "        cap.release()\n",
    "        cv2.destroyAllWindows()\n",
    "        break"
   ]
  },
  {
   "cell_type": "markdown",
   "id": "806cd7af-0edc-4a86-b15e-489e8945ea92",
   "metadata": {},
   "source": [
    "#### Freezing the graph"
   ]
  },
  {
   "cell_type": "code",
   "execution_count": null,
   "id": "b4a84a5f-44ef-4192-a586-9e10a9526ce4",
   "metadata": {},
   "outputs": [],
   "source": [
    "# It is equivalent of saving your model"
   ]
  },
  {
   "cell_type": "code",
   "execution_count": null,
   "id": "24dda063-3e9f-4702-911f-ea7b256c98f1",
   "metadata": {},
   "outputs": [],
   "source": [
    "APIMODEL_PATH = os.path.join('TensorFlow','models')"
   ]
  },
  {
   "cell_type": "code",
   "execution_count": null,
   "id": "b46caa12-ffca-4cb7-bdfe-25ee0a2019ec",
   "metadata": {},
   "outputs": [],
   "source": [
    "FREEZE_SCRIPT = os.path.join(APIMODEL_PATH, 'research', 'object_detection', 'exporter_main_v2.py ')"
   ]
  },
  {
   "cell_type": "code",
   "execution_count": null,
   "id": "ebc1738b-eb18-41e7-b71d-f373fcb6bc79",
   "metadata": {},
   "outputs": [],
   "source": [
    "OUTPUT_PATH = os.path.join('TensorFlow', 'Workspace','models',CUSTOM_MODEL_NAME, 'export')"
   ]
  },
  {
   "cell_type": "code",
   "execution_count": null,
   "id": "26ad0369-5e81-4782-becd-4c701ba2f8f1",
   "metadata": {},
   "outputs": [],
   "source": [
    "command = \"python {} --input_type=image_tensor --pipeline_config_path={} --trained_checkpoint_dir={} --output_directory={}\".format(FREEZE_SCRIPT ,PIPELINE_CONFIG, CHECKPOINT_PATH, OUTPUT_PATH)"
   ]
  },
  {
   "cell_type": "code",
   "execution_count": null,
   "id": "d5d1118a-6ca5-4ff1-90ec-5efc9f642574",
   "metadata": {},
   "outputs": [],
   "source": [
    "print(command)"
   ]
  },
  {
   "cell_type": "raw",
   "id": "c26e2e3c-f239-4770-ba7b-bf0467dd1969",
   "metadata": {},
   "source": [
    "!python TensorFlow/models/research/object_detection/exporter_main_v2.py  --input_type=image_tensor --pipeline_config_path=TensorFlow/Workspace/models/my_ssd_mobnet/pipeline.config --trained_checkpoint_dir=TensorFlow/Workspace/models/my_ssd_mobnet --output_directory=TensorFlow/Workspace/models/my_ssd_mobnet/export"
   ]
  },
  {
   "cell_type": "markdown",
   "id": "7828ad03-80d6-4dc1-a383-96de330e4e45",
   "metadata": {},
   "source": [
    "#### Performance tuning"
   ]
  },
  {
   "cell_type": "code",
   "execution_count": null,
   "id": "de09d1d8-bc78-41ac-be83-41efe5650c83",
   "metadata": {},
   "outputs": [],
   "source": [
    "# Adding more images of low performing classes to your dataset \n",
    "# Training for longer\n",
    "# Changine architecture  # using another model from model zoo\n"
   ]
  }
 ],
 "metadata": {
  "kernelspec": {
   "display_name": "Python 3",
   "language": "python",
   "name": "python3"
  },
  "language_info": {
   "codemirror_mode": {
    "name": "ipython",
    "version": 3
   },
   "file_extension": ".py",
   "mimetype": "text/x-python",
   "name": "python",
   "nbconvert_exporter": "python",
   "pygments_lexer": "ipython3",
   "version": "3.9.2"
  }
 },
 "nbformat": 4,
 "nbformat_minor": 5
}
