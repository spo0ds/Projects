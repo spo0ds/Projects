{
 "cells": [
  {
   "cell_type": "code",
   "execution_count": 1,
   "id": "143d03ba-1572-4f12-af66-4a805019875a",
   "metadata": {},
   "outputs": [],
   "source": [
    "import os "
   ]
  },
  {
   "cell_type": "code",
   "execution_count": 2,
   "id": "806ba6e8-f672-472a-9e9a-b576f68f4599",
   "metadata": {},
   "outputs": [],
   "source": [
    "CUSTOM_MODEL_NAME = 'my_ssd_mobnet'  # custom model folder\n",
    "PRETRAINED_MODEL_NAME = 'ssd_mobilenet_v2_fpnlite_320x320_coco17_tpu-8' # name of the model that we'll download from tf zoo\n",
    "PRETRAINED_MODEL_URL = 'http://download.tensorflow.org/models/object_detection/tf2/20200711/ssd_mobilenet_v2_fpnlite_320x320_coco17_tpu-8.tar.gz'\n",
    "TF_RECORD_SCRIPT_NAME = 'generate_tfrecord.py'\n",
    "LABEL_MAP_NAME = 'label_map.pbtxt'"
   ]
  },
  {
   "cell_type": "code",
   "execution_count": 3,
   "id": "08c39c99-cd6b-4067-bd97-e98bb2424c23",
   "metadata": {},
   "outputs": [],
   "source": [
    "paths = {\n",
    "    'WORKSPACE_PATH': os.path.join('TensorFlow', 'Workspace'),\n",
    "    'SCRIPTS_PATH': os.path.join('TensorFlow','scripts'),\n",
    "    'APIMODEL_PATH': os.path.join('TensorFlow','models'),\n",
    "    'ANNOTATION_PATH': os.path.join('TensorFlow', 'Workspace','annotations'),\n",
    "    'IMAGE_PATH': os.path.join('TensorFlow', 'Workspace','Images'),\n",
    "    'MODEL_PATH': os.path.join('TensorFlow', 'Workspace','models'),\n",
    "    'PRETRAINED_MODEL_PATH': os.path.join('TensorFlow', 'Workspace','pre-trained-models'),\n",
    "    'CHECKPOINT_PATH': os.path.join('TensorFlow', 'Workspace','models',CUSTOM_MODEL_NAME), \n",
    "    'OUTPUT_PATH': os.path.join('TensorFlow', 'Workspace','models',CUSTOM_MODEL_NAME, 'export'), \n",
    "    'TFJS_PATH':os.path.join('TensorFlow', 'Workspace','models',CUSTOM_MODEL_NAME, 'tfjsexport'), \n",
    "    'TFLITE_PATH':os.path.join('TensorFlow', 'Workspace','models',CUSTOM_MODEL_NAME, 'tfliteexport'), \n",
    "    'PROTOC_PATH':os.path.join('TensorFlow','protoc')\n",
    " }"
   ]
  },
  {
   "cell_type": "code",
   "execution_count": 4,
   "id": "a42004e0-6571-4ada-92eb-6f55bade1396",
   "metadata": {},
   "outputs": [],
   "source": [
    "files = {\n",
    "    'PIPELINE_CONFIG':os.path.join('TensorFlow', 'Workspace','models', CUSTOM_MODEL_NAME, 'pipeline.config'),\n",
    "    'TF_RECORD_SCRIPT': os.path.join(paths['SCRIPTS_PATH'], TF_RECORD_SCRIPT_NAME), \n",
    "    'LABELMAP': os.path.join(paths['ANNOTATION_PATH'], LABEL_MAP_NAME)\n",
    "}"
   ]
  },
  {
   "cell_type": "code",
   "execution_count": 5,
   "id": "f7131616-be65-48e5-bbc2-c21730a0a77e",
   "metadata": {},
   "outputs": [],
   "source": [
    "for path in paths.values():\n",
    "    if not os.path.exists(path):\n",
    "        if os.name == 'posix':\n",
    "            !mkdir -p {path}\n",
    "        if os.name == 'nt':\n",
    "            !mkdir {path}"
   ]
  },
  {
   "cell_type": "code",
   "execution_count": 6,
   "id": "92a1558d-3d64-4602-9f5e-db4a4df5aa0a",
   "metadata": {},
   "outputs": [],
   "source": [
    "import object_detection"
   ]
  },
  {
   "cell_type": "markdown",
   "id": "6216fd67-4f19-418c-a5dc-8713399ecddb",
   "metadata": {},
   "source": [
    "#### Downloading our model from tf zoo"
   ]
  },
  {
   "cell_type": "raw",
   "id": "657121ce-26de-4365-a406-dfe2c4d819dd",
   "metadata": {},
   "source": [
    "if os.name =='posix':\n",
    "    !wget {PRETRAINED_MODEL_URL}\n",
    "    !mv {PRETRAINED_MODEL_NAME+'.tar.gz'} {paths['PRETRAINED_MODEL_PATH']}\n",
    "    !cd {paths['PRETRAINED_MODEL_PATH']} && tar -zxvf {PRETRAINED_MODEL_NAME+'.tar.gz'}\n",
    "if os.name == 'nt':\n",
    "    wget.download(PRETRAINED_MODEL_URL)\n",
    "    !move {PRETRAINED_MODEL_NAME+'.tar.gz'} {paths['PRETRAINED_MODEL_PATH']}\n",
    "    !cd {paths['PRETRAINED_MODEL_PATH']} && tar -zxvf {PRETRAINED_MODEL_NAME+'.tar.gz'}"
   ]
  },
  {
   "cell_type": "markdown",
   "id": "0d72c5c8-778c-4629-88d2-492f70fb3372",
   "metadata": {},
   "source": [
    "#### Create Label map "
   ]
  },
  {
   "cell_type": "code",
   "execution_count": 7,
   "id": "7bc8a440-d2d5-4f65-a0c6-7700520f27cb",
   "metadata": {},
   "outputs": [],
   "source": [
    "labels = [{'name':'ThumbsUp', 'id':1}, {'name':'ThumbsDown', 'id':2}, {'name':'ThankYou', 'id':3}, {'name':'LiveLong', 'id':4}]\n",
    "\n",
    "with open(files['LABELMAP'], 'w') as f:\n",
    "    for label in labels:\n",
    "        f.write('item { \\n')\n",
    "        f.write('\\tname:\\'{}\\'\\n'.format(label['name']))\n",
    "        f.write('\\tid:{}\\n'.format(label['id']))\n",
    "        f.write('}\\n')\n",
    "        \n",
    "# write labelmap as labels in annotations_path folder \n",
    "# labels must have same name as we did in labelimg"
   ]
  },
  {
   "cell_type": "markdown",
   "id": "02ef98a6-59ac-4b87-9975-6b3c88b58524",
   "metadata": {},
   "source": [
    "#### Create Tf record"
   ]
  },
  {
   "cell_type": "code",
   "execution_count": 8,
   "id": "1e4c63fc-2931-435f-a0ab-8fb5b0f75eaf",
   "metadata": {},
   "outputs": [],
   "source": [
    "# tfRecords are a binary file format for storing data \n",
    "# using a tfRecord help speedup training for your custom object detection model "
   ]
  },
  {
   "cell_type": "raw",
   "id": "5359e619-c47b-4bb3-bcb6-05e57a761315",
   "metadata": {},
   "source": [
    "# OPTIONAL IF RUNNING ON COLAB\n",
    "ARCHIVE_FILES = os.path.join(paths['IMAGE_PATH'], 'archive.tar.gz')\n",
    "if os.path.exists(ARCHIVE_FILES):\n",
    "  !tar -zxvf {ARCHIVE_FILES}"
   ]
  },
  {
   "cell_type": "raw",
   "id": "fc77ee07-ef36-49e8-b448-36d86fdf235b",
   "metadata": {},
   "source": [
    "if not os.path.exists(files['TF_RECORD_SCRIPT']):\n",
    "    !git clone https://github.com/nicknochnack/GenerateTFRecord {paths['SCRIPTS_PATH']}"
   ]
  },
  {
   "cell_type": "code",
   "execution_count": 9,
   "id": "906549a5-957d-4997-8961-90f41c488096",
   "metadata": {},
   "outputs": [],
   "source": [
    "# it converts our annotations(xml) and images into fileformat that it can use "
   ]
  },
  {
   "cell_type": "code",
   "execution_count": 10,
   "id": "27056b11-0774-4fa0-8c20-8bf82c3128f2",
   "metadata": {},
   "outputs": [
    {
     "name": "stdout",
     "output_type": "stream",
     "text": [
      "Successfully created the TFRecord file: TensorFlow/Workspace/annotations/train.record\n",
      "Successfully created the TFRecord file: TensorFlow/Workspace/annotations/test.record\n"
     ]
    }
   ],
   "source": [
    "!python {files['TF_RECORD_SCRIPT']} -x {os.path.join(paths['IMAGE_PATH'], 'train')} -l {files['LABELMAP']} -o {os.path.join(paths['ANNOTATION_PATH'], 'train.record')} \n",
    "!python {files['TF_RECORD_SCRIPT']} -x {os.path.join(paths['IMAGE_PATH'], 'test')} -l {files['LABELMAP']} -o {os.path.join(paths['ANNOTATION_PATH'], 'test.record')}"
   ]
  },
  {
   "cell_type": "code",
   "execution_count": 11,
   "id": "300adf0e-a353-47c2-b080-abed77a01668",
   "metadata": {},
   "outputs": [],
   "source": [
    "# Now we have train and test tfrecords that we'll use in our model"
   ]
  },
  {
   "cell_type": "markdown",
   "id": "47c3e879-5686-4733-9842-b6d244f883ab",
   "metadata": {},
   "source": [
    "#### Copy Model Config to Training Folder"
   ]
  },
  {
   "cell_type": "code",
   "execution_count": 12,
   "id": "f850960b-b7fd-449c-9d35-d1ab868191d5",
   "metadata": {},
   "outputs": [],
   "source": [
    "# Pipeline.config defines the architecture of the model"
   ]
  },
  {
   "cell_type": "code",
   "execution_count": 13,
   "id": "8e787c39-9faf-46b3-9239-96bbc82749c8",
   "metadata": {},
   "outputs": [],
   "source": [
    "# copies pipeline.config to my_ssd_mobnet folder"
   ]
  },
  {
   "cell_type": "code",
   "execution_count": 14,
   "id": "b2c4592a-5773-4cc6-9265-9de7df9887f1",
   "metadata": {},
   "outputs": [],
   "source": [
    "if os.name =='posix':\n",
    "    !cp {os.path.join(paths['PRETRAINED_MODEL_PATH'], PRETRAINED_MODEL_NAME, 'pipeline.config')} {os.path.join(paths['CHECKPOINT_PATH'])}\n",
    "if os.name == 'nt':\n",
    "    !copy {os.path.join(paths['PRETRAINED_MODEL_PATH'], PRETRAINED_MODEL_NAME, 'pipeline.config')} {os.path.join(paths['CHECKPOINT_PATH'])}"
   ]
  },
  {
   "cell_type": "markdown",
   "id": "d3f19000-8106-4223-8c82-15d445e4cb79",
   "metadata": {},
   "source": [
    "#### Update Config For Transfer Learning"
   ]
  },
  {
   "cell_type": "code",
   "execution_count": 15,
   "id": "e3ac8efb-5f53-4cb4-ac92-101f1debdcce",
   "metadata": {},
   "outputs": [],
   "source": [
    "import tensorflow as tf\n",
    "from object_detection.utils import config_util\n",
    "from object_detection.protos import pipeline_pb2\n",
    "from google.protobuf import text_format"
   ]
  },
  {
   "cell_type": "code",
   "execution_count": 16,
   "id": "163ea812-76fd-410a-9f85-a4d59b636e1a",
   "metadata": {},
   "outputs": [],
   "source": [
    "config = config_util.get_configs_from_pipeline_file(files['PIPELINE_CONFIG'])"
   ]
  },
  {
   "cell_type": "code",
   "execution_count": 17,
   "id": "b738e02c-b950-44fc-87a1-35354ac49c26",
   "metadata": {},
   "outputs": [
    {
     "data": {
      "text/plain": [
       "{'model': ssd {\n",
       "   num_classes: 90\n",
       "   image_resizer {\n",
       "     fixed_shape_resizer {\n",
       "       height: 320\n",
       "       width: 320\n",
       "     }\n",
       "   }\n",
       "   feature_extractor {\n",
       "     type: \"ssd_mobilenet_v2_fpn_keras\"\n",
       "     depth_multiplier: 1.0\n",
       "     min_depth: 16\n",
       "     conv_hyperparams {\n",
       "       regularizer {\n",
       "         l2_regularizer {\n",
       "           weight: 3.9999998989515007e-05\n",
       "         }\n",
       "       }\n",
       "       initializer {\n",
       "         random_normal_initializer {\n",
       "           mean: 0.0\n",
       "           stddev: 0.009999999776482582\n",
       "         }\n",
       "       }\n",
       "       activation: RELU_6\n",
       "       batch_norm {\n",
       "         decay: 0.996999979019165\n",
       "         scale: true\n",
       "         epsilon: 0.0010000000474974513\n",
       "       }\n",
       "     }\n",
       "     use_depthwise: true\n",
       "     override_base_feature_extractor_hyperparams: true\n",
       "     fpn {\n",
       "       min_level: 3\n",
       "       max_level: 7\n",
       "       additional_layer_depth: 128\n",
       "     }\n",
       "   }\n",
       "   box_coder {\n",
       "     faster_rcnn_box_coder {\n",
       "       y_scale: 10.0\n",
       "       x_scale: 10.0\n",
       "       height_scale: 5.0\n",
       "       width_scale: 5.0\n",
       "     }\n",
       "   }\n",
       "   matcher {\n",
       "     argmax_matcher {\n",
       "       matched_threshold: 0.5\n",
       "       unmatched_threshold: 0.5\n",
       "       ignore_thresholds: false\n",
       "       negatives_lower_than_unmatched: true\n",
       "       force_match_for_each_row: true\n",
       "       use_matmul_gather: true\n",
       "     }\n",
       "   }\n",
       "   similarity_calculator {\n",
       "     iou_similarity {\n",
       "     }\n",
       "   }\n",
       "   box_predictor {\n",
       "     weight_shared_convolutional_box_predictor {\n",
       "       conv_hyperparams {\n",
       "         regularizer {\n",
       "           l2_regularizer {\n",
       "             weight: 3.9999998989515007e-05\n",
       "           }\n",
       "         }\n",
       "         initializer {\n",
       "           random_normal_initializer {\n",
       "             mean: 0.0\n",
       "             stddev: 0.009999999776482582\n",
       "           }\n",
       "         }\n",
       "         activation: RELU_6\n",
       "         batch_norm {\n",
       "           decay: 0.996999979019165\n",
       "           scale: true\n",
       "           epsilon: 0.0010000000474974513\n",
       "         }\n",
       "       }\n",
       "       depth: 128\n",
       "       num_layers_before_predictor: 4\n",
       "       kernel_size: 3\n",
       "       class_prediction_bias_init: -4.599999904632568\n",
       "       share_prediction_tower: true\n",
       "       use_depthwise: true\n",
       "     }\n",
       "   }\n",
       "   anchor_generator {\n",
       "     multiscale_anchor_generator {\n",
       "       min_level: 3\n",
       "       max_level: 7\n",
       "       anchor_scale: 4.0\n",
       "       aspect_ratios: 1.0\n",
       "       aspect_ratios: 2.0\n",
       "       aspect_ratios: 0.5\n",
       "       scales_per_octave: 2\n",
       "     }\n",
       "   }\n",
       "   post_processing {\n",
       "     batch_non_max_suppression {\n",
       "       score_threshold: 9.99999993922529e-09\n",
       "       iou_threshold: 0.6000000238418579\n",
       "       max_detections_per_class: 100\n",
       "       max_total_detections: 100\n",
       "       use_static_shapes: false\n",
       "     }\n",
       "     score_converter: SIGMOID\n",
       "   }\n",
       "   normalize_loss_by_num_matches: true\n",
       "   loss {\n",
       "     localization_loss {\n",
       "       weighted_smooth_l1 {\n",
       "       }\n",
       "     }\n",
       "     classification_loss {\n",
       "       weighted_sigmoid_focal {\n",
       "         gamma: 2.0\n",
       "         alpha: 0.25\n",
       "       }\n",
       "     }\n",
       "     classification_weight: 1.0\n",
       "     localization_weight: 1.0\n",
       "   }\n",
       "   encode_background_as_zeros: true\n",
       "   normalize_loc_loss_by_codesize: true\n",
       "   inplace_batchnorm_update: true\n",
       "   freeze_batchnorm: false\n",
       " },\n",
       " 'train_config': batch_size: 128\n",
       " data_augmentation_options {\n",
       "   random_horizontal_flip {\n",
       "   }\n",
       " }\n",
       " data_augmentation_options {\n",
       "   random_crop_image {\n",
       "     min_object_covered: 0.0\n",
       "     min_aspect_ratio: 0.75\n",
       "     max_aspect_ratio: 3.0\n",
       "     min_area: 0.75\n",
       "     max_area: 1.0\n",
       "     overlap_thresh: 0.0\n",
       "   }\n",
       " }\n",
       " sync_replicas: true\n",
       " optimizer {\n",
       "   momentum_optimizer {\n",
       "     learning_rate {\n",
       "       cosine_decay_learning_rate {\n",
       "         learning_rate_base: 0.07999999821186066\n",
       "         total_steps: 50000\n",
       "         warmup_learning_rate: 0.026666000485420227\n",
       "         warmup_steps: 1000\n",
       "       }\n",
       "     }\n",
       "     momentum_optimizer_value: 0.8999999761581421\n",
       "   }\n",
       "   use_moving_average: false\n",
       " }\n",
       " fine_tune_checkpoint: \"PATH_TO_BE_CONFIGURED\"\n",
       " num_steps: 50000\n",
       " startup_delay_steps: 0.0\n",
       " replicas_to_aggregate: 8\n",
       " max_number_of_boxes: 100\n",
       " unpad_groundtruth_tensors: false\n",
       " fine_tune_checkpoint_type: \"classification\"\n",
       " fine_tune_checkpoint_version: V2,\n",
       " 'train_input_config': label_map_path: \"PATH_TO_BE_CONFIGURED\"\n",
       " tf_record_input_reader {\n",
       "   input_path: \"PATH_TO_BE_CONFIGURED\"\n",
       " },\n",
       " 'eval_config': metrics_set: \"coco_detection_metrics\"\n",
       " use_moving_averages: false,\n",
       " 'eval_input_configs': [label_map_path: \"PATH_TO_BE_CONFIGURED\"\n",
       " shuffle: false\n",
       " num_epochs: 1\n",
       " tf_record_input_reader {\n",
       "   input_path: \"PATH_TO_BE_CONFIGURED\"\n",
       " }\n",
       " ],\n",
       " 'eval_input_config': label_map_path: \"PATH_TO_BE_CONFIGURED\"\n",
       " shuffle: false\n",
       " num_epochs: 1\n",
       " tf_record_input_reader {\n",
       "   input_path: \"PATH_TO_BE_CONFIGURED\"\n",
       " }}"
      ]
     },
     "execution_count": 17,
     "metadata": {},
     "output_type": "execute_result"
    }
   ],
   "source": [
    "config"
   ]
  },
  {
   "cell_type": "code",
   "execution_count": 18,
   "id": "98e0ca85-10bf-4633-9989-fb024a5fb096",
   "metadata": {},
   "outputs": [],
   "source": [
    "pipeline_config = pipeline_pb2.TrainEvalPipelineConfig()\n",
    "with tf.io.gfile.GFile(files['PIPELINE_CONFIG'], \"r\") as f:                                                                                                                                                                                                                     \n",
    "    proto_str = f.read()                                                                                                                                                                                                                                          \n",
    "    text_format.Merge(proto_str, pipeline_config)"
   ]
  },
  {
   "cell_type": "code",
   "execution_count": 19,
   "id": "f3c8ca60-2d3b-42bf-a922-4a6c0bbf80d4",
   "metadata": {},
   "outputs": [],
   "source": [
    "pipeline_config.model.ssd.num_classes = len(labels)\n",
    "pipeline_config.train_config.batch_size = 4\n",
    "pipeline_config.train_config.fine_tune_checkpoint = os.path.join(paths['PRETRAINED_MODEL_PATH'], PRETRAINED_MODEL_NAME, 'checkpoint', 'ckpt-0')\n",
    "pipeline_config.train_config.fine_tune_checkpoint_type = \"detection\"\n",
    "pipeline_config.train_input_reader.label_map_path= files['LABELMAP']\n",
    "pipeline_config.train_input_reader.tf_record_input_reader.input_path[:] = [os.path.join(paths['ANNOTATION_PATH'], 'train.record')]\n",
    "pipeline_config.eval_input_reader[0].label_map_path = files['LABELMAP']\n",
    "pipeline_config.eval_input_reader[0].tf_record_input_reader.input_path[:] = [os.path.join(paths['ANNOTATION_PATH'], 'test.record')]"
   ]
  },
  {
   "cell_type": "code",
   "execution_count": 20,
   "id": "f918570f-934c-4921-9903-0f709fc26f9c",
   "metadata": {},
   "outputs": [],
   "source": [
    "config_text = text_format.MessageToString(pipeline_config)                                                                                                                                                                                                        \n",
    "with tf.io.gfile.GFile(files['PIPELINE_CONFIG'], \"wb\") as f:                                                                                                                                                                                                                     \n",
    "    f.write(config_text)"
   ]
  },
  {
   "cell_type": "code",
   "execution_count": 21,
   "id": "99538a85-8c8d-4fae-82db-ab18e43c1621",
   "metadata": {},
   "outputs": [],
   "source": [
    "# we've changed the number of classes\n",
    "# set our own fine tune checkpoint, labelmap path, input path, "
   ]
  },
  {
   "cell_type": "markdown",
   "id": "5783dd43-0213-48cd-b41a-24a6a31f7917",
   "metadata": {},
   "source": [
    "#### Things we have done so far"
   ]
  },
  {
   "cell_type": "code",
   "execution_count": 22,
   "id": "c6111147-d7dd-466d-a0b4-ded54a4c12d8",
   "metadata": {},
   "outputs": [],
   "source": [
    "# we've steup all our paths\n",
    "# downloaded and installed tf object detection api\n",
    "# downloaded pretrained model from tensorflow model zoo\n",
    "# created out label map \n",
    "# created tf records (train and test file)\n",
    "# copied our config and updated that "
   ]
  },
  {
   "cell_type": "markdown",
   "id": "7c7992ef-81b2-401b-ae6c-c27f88cee42b",
   "metadata": {},
   "source": [
    "#### Train the model"
   ]
  },
  {
   "cell_type": "code",
   "execution_count": 23,
   "id": "5fedcd9d-26f7-4a04-af5a-4307bd6a5660",
   "metadata": {},
   "outputs": [],
   "source": [
    "TRAINING_SCRIPT = os.path.join(paths['APIMODEL_PATH'], 'research', 'object_detection', 'model_main_tf2.py')"
   ]
  },
  {
   "cell_type": "code",
   "execution_count": 24,
   "id": "3afdfed3-5a60-44b0-a1d6-a75fcf30a55c",
   "metadata": {},
   "outputs": [],
   "source": [
    "command = \"python {} --model_dir={} --pipeline_config_path={} --num_train_steps=2000\".format(TRAINING_SCRIPT, paths['CHECKPOINT_PATH'],files['PIPELINE_CONFIG'])"
   ]
  },
  {
   "cell_type": "code",
   "execution_count": 25,
   "id": "f85ee479-6f88-4271-b018-6ec94377fdab",
   "metadata": {},
   "outputs": [
    {
     "name": "stdout",
     "output_type": "stream",
     "text": [
      "python TensorFlow/models/research/object_detection/model_main_tf2.py --model_dir=TensorFlow/Workspace/models/my_ssd_mobnet --pipeline_config_path=TensorFlow/Workspace/models/my_ssd_mobnet/pipeline.config --num_train_steps=2000\n"
     ]
    }
   ],
   "source": [
    "print(command)"
   ]
  },
  {
   "cell_type": "raw",
   "id": "2645fd11-ba07-4fce-b9c5-439966536ea7",
   "metadata": {},
   "source": [
    "!python TensorFlow/models/research/object_detection/model_main_tf2.py --model_dir=TensorFlow/Workspace/models/my_ssd_mobnet --pipeline_config_path=TensorFlow/Workspace/models/my_ssd_mobnet/pipeline.config --num_train_steps=2000\n"
   ]
  },
  {
   "cell_type": "code",
   "execution_count": 26,
   "id": "34f0835d-0076-420c-ae83-dd39cef19836",
   "metadata": {},
   "outputs": [],
   "source": [
    "# (python TensorFlow/models/research/object_detection/model_main_tf2.py) it's running model_main_tf2.py located inside TensorFlow/models/research/object_detection/\n",
    "# then we're passing number of arguments\n",
    "# (--model_dir=TensorFlow/Workspace/models/my_ssd_mobnet) it's the model directory where pipeline.config file is \n",
    "# (--pipeline_config_path=TensorFlow/Workspace/models/my_ssd_mobnet/pipeline.config) passing pipeline.config\n",
    "# (--num_train_steps=2000) number of steps"
   ]
  },
  {
   "cell_type": "markdown",
   "id": "f685ecf3-6c5a-46a7-b0f9-b41911e1da8d",
   "metadata": {},
   "source": [
    "#### Evaluate the model"
   ]
  },
  {
   "cell_type": "code",
   "execution_count": 27,
   "id": "35c9c395-9be8-49a0-8952-9232154fc5da",
   "metadata": {},
   "outputs": [],
   "source": [
    "command = \"python {} --model_dir={} --pipeline_config_path={} --checkpoint_dir={}\".format(TRAINING_SCRIPT, paths['CHECKPOINT_PATH'],files['PIPELINE_CONFIG'], paths['CHECKPOINT_PATH'])"
   ]
  },
  {
   "cell_type": "code",
   "execution_count": 28,
   "id": "5db18462-dd83-4841-b525-46d8c3c89b26",
   "metadata": {},
   "outputs": [
    {
     "name": "stdout",
     "output_type": "stream",
     "text": [
      "python TensorFlow/models/research/object_detection/model_main_tf2.py --model_dir=TensorFlow/Workspace/models/my_ssd_mobnet --pipeline_config_path=TensorFlow/Workspace/models/my_ssd_mobnet/pipeline.config --checkpoint_dir=TensorFlow/Workspace/models/my_ssd_mobnet\n"
     ]
    }
   ],
   "source": [
    "print(command)"
   ]
  },
  {
   "cell_type": "raw",
   "id": "478712ae-570a-4c10-9279-a764c7e1b51c",
   "metadata": {},
   "source": [
    "!python TensorFlow/models/research/object_detection/model_main_tf2.py --model_dir=TensorFlow/Workspace/models/my_ssd_mobnet --pipeline_config_path=TensorFlow/Workspace/models/my_ssd_mobnet/pipeline.config --checkpoint_dir=TensorFlow/Workspace/models/my_ssd_mobnet"
   ]
  },
  {
   "cell_type": "code",
   "execution_count": 29,
   "id": "33b48ae7-85f9-4517-806d-d979f82c64bb",
   "metadata": {},
   "outputs": [],
   "source": [
    "# we can visualize loss and eval matrices using tensorboard located inside\n",
    "# TensorFlow/Workspace/models/my_ssd_mobnet/train (loss matrix)\n",
    "# TensorFlow/Workspace/models/my_ssd_mobnet/eval (eval matrix)\n",
    "\n",
    "# tensorboard --logdir=."
   ]
  }
 ],
 "metadata": {
  "kernelspec": {
   "display_name": "Python 3",
   "language": "python",
   "name": "python3"
  },
  "language_info": {
   "codemirror_mode": {
    "name": "ipython",
    "version": 3
   },
   "file_extension": ".py",
   "mimetype": "text/x-python",
   "name": "python",
   "nbconvert_exporter": "python",
   "pygments_lexer": "ipython3",
   "version": "3.9.2"
  }
 },
 "nbformat": 4,
 "nbformat_minor": 5
}
