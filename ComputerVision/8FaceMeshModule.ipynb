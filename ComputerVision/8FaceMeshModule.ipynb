{
 "cells": [
  {
   "cell_type": "code",
   "execution_count": null,
   "id": "8f2b56e9-26ab-4afe-9df9-8f27e6a50cd6",
   "metadata": {},
   "outputs": [],
   "source": [
    "import cv2\n",
    "import mediapipe as mp \n",
    "import time "
   ]
  },
  {
   "cell_type": "code",
   "execution_count": null,
   "id": "e4396ed0-e7db-45e1-ae70-b536d65da190",
   "metadata": {},
   "outputs": [],
   "source": [
    "class FaceMeshDetector():\n",
    "    def __init__(self, mode=False, maxFace=2, minDetectionCon=0.5, minTrackCon=0.5):\n",
    "        self.mode = mode\n",
    "        self.maxFace = maxFace\n",
    "        self.minDetectionCon = minDetectionCon\n",
    "        self.minTrackCon = minTrackCon\n",
    "        \n",
    "        self.mpDraw = mp.solutions.drawing_utils\n",
    "        self.mpFaceMesh = mp.solutions.face_mesh\n",
    "        self.faceMesh = self.mpFaceMesh.FaceMesh(self.mode, self.maxFace, self.minDetectionCon, self.minTrackCon)\n",
    "        self.drawSpec = self.mpDraw.DrawingSpec(thickness = 1, circle_radius=2)\n",
    "    \n",
    "        \n",
    "        \n",
    "    def findFaceMesh (self, img, draw=True):\n",
    "        imgRGB = cv2.cvtColor(img, cv2.COLOR_BGR2RGB)\n",
    "        self.results = self.faceMesh.process(imgRGB)\n",
    "        \n",
    "        faces = []\n",
    "        if self.results.multi_face_landmarks: # if something is detected \n",
    "            \n",
    "            for facelms in self.results.multi_face_landmarks:\n",
    "                if draw:\n",
    "                    self.mpDraw.draw_landmarks(img, facelms, self.mpFaceMesh.FACE_CONNECTIONS, self.drawSpec, self.drawSpec)\n",
    "                \n",
    "                face = []\n",
    "                for id, lm in enumerate(facelms.landmark): # to loop through the landmarks\n",
    "                    iw, ih, ic = img.shape\n",
    "                    x, y = int(lm.x*iw), int(lm.y*ih)\n",
    "                    \n",
    "                    face.append([x,y])\n",
    "                \n",
    "                faces.append(face)\n",
    "            \n",
    "        return img, faces\n",
    "                \n",
    "   "
   ]
  },
  {
   "cell_type": "code",
   "execution_count": null,
   "id": "c56f9adb-008c-4d08-847b-496ea64f3fa6",
   "metadata": {},
   "outputs": [],
   "source": [
    "def main():\n",
    "    cap = cv2.VideoCapture('faceDetectionvideos/1.mp4')\n",
    "    pTime = 0\n",
    "    fm = FaceMeshDetector()\n",
    "    while True:\n",
    "        success, img = cap.read()\n",
    "        img, faces = fm.findFaceMesh(img)\n",
    "        if len(faces) > 0:\n",
    "            print(len(faces))\n",
    "        cTime = time.time()\n",
    "        fps = 1/(cTime-pTime)\n",
    "        pTime = cTime\n",
    "\n",
    "        cv2.putText(img, f'fps:{int(fps)}', (20,70), cv2.FONT_HERSHEY_PLAIN, 3, (255,254,254), 2)\n",
    "        cv2.imshow('Image', img)\n",
    "        cv2.waitKey(1)\n",
    "    "
   ]
  },
  {
   "cell_type": "code",
   "execution_count": null,
   "id": "328e3415-3041-4a41-b7fe-1b0229ab331f",
   "metadata": {},
   "outputs": [],
   "source": [
    "if __name__ == '__main__':\n",
    "    main()"
   ]
  }
 ],
 "metadata": {
  "kernelspec": {
   "display_name": "Python 3",
   "language": "python",
   "name": "python3"
  },
  "language_info": {
   "codemirror_mode": {
    "name": "ipython",
    "version": 3
   },
   "file_extension": ".py",
   "mimetype": "text/x-python",
   "name": "python",
   "nbconvert_exporter": "python",
   "pygments_lexer": "ipython3",
   "version": "3.9.2"
  }
 },
 "nbformat": 4,
 "nbformat_minor": 5
}
