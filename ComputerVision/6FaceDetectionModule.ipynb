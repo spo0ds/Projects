{
 "cells": [
  {
   "cell_type": "code",
   "execution_count": null,
   "id": "b8cc5532-5bbf-4e99-b953-df85efd689c5",
   "metadata": {},
   "outputs": [],
   "source": [
    "import cv2\n",
    "import mediapipe as mp \n",
    "import time"
   ]
  },
  {
   "cell_type": "code",
   "execution_count": null,
   "id": "53586cc0-ec69-464d-8521-ef616003bd6d",
   "metadata": {},
   "outputs": [],
   "source": [
    "class FaceDetector():\n",
    "    def __init__ (self, minDetectionCon=0.5):\n",
    "        self.minDetectionCon = minDetectionCon\n",
    "\n",
    "        self.mpFace = mp.solutions.face_detection\n",
    "        self.mpDraw = mp.solutions.drawing_utils\n",
    "        self.fd = self.mpFace.FaceDetection(self.minDetectionCon)\n",
    "        #if(img is not None): \n",
    "    \n",
    "    def findFaces(self, img, draw=True):\n",
    "        imgRGB = cv2.cvtColor(img, cv2.COLOR_BGR2RGB)\n",
    "        self.results = self.fd.process(imgRGB)\n",
    "        bboxlist = []\n",
    "        if self.results.detections:\n",
    "            for id, detection in enumerate(self.results.detections):\n",
    "                bboxC = detection.location_data.relative_bounding_box # contains xmin,ymin,width,height\n",
    "                ih, iw, ic = img.shape\n",
    "                bbox = int(bboxC.xmin * iw), int(bboxC.ymin * ih), int(bboxC.width * iw), int(bboxC.height * ih)\n",
    "                bboxlist.append([bbox, detection.score[0]])\n",
    "                if draw:\n",
    "                    #cv2.rectangle(img, bbox, (255,254,254), 2)\n",
    "                    img = self.fancyDraw(img, bbox)\n",
    "                # backslash '\\' is interpreted as a line-continuation character\n",
    "                    cv2.putText(img, f'{int(detection.score[0]*100)}%', \n",
    "                            (bbox[0],bbox[1]-20), cv2.FONT_HERSHEY_PLAIN, 2, (255,2,254), 2)\n",
    "                \n",
    "        return img, bboxlist\n",
    "    \n",
    "    def fancyDraw(self, img, bbox, l= 30, t=5, rt=1):\n",
    "        x, y, w, h = bbox\n",
    "        x1, y1 = x+w, y+h\n",
    "        \n",
    "        cv2.rectangle(img, bbox, (255,254,254), rt)\n",
    "        # for top left corner\n",
    "        cv2.line(img, (x,y), (x+l,y), (255,254,254), t) # draws line on top of our bounding box\n",
    "        cv2.line(img, (x,y), (x,y+l), (255,254,254), t)\n",
    "        \n",
    "        # for top right corner\n",
    "        cv2.line(img, (x1,y), (x1-l,y), (255,254,254), t) # draws line on top of our bounding box\n",
    "        cv2.line(img, (x1,y), (x1,y+l), (255,254,254), t)\n",
    "        \n",
    "         # for bottom left corner\n",
    "        cv2.line(img, (x,y1), (x+l,y1), (255,254,254), t) # draws line on top of our bounding box\n",
    "        cv2.line(img, (x,y1), (x,y1-l), (255,254,254), t)\n",
    "        \n",
    "        # for top bottom corner\n",
    "        cv2.line(img, (x1,y1), (x1-l,y1), (255,254,254), t) # draws line on top of our bounding box\n",
    "        cv2.line(img, (x1,y1), (x1,y1-l), (255,254,254), t)\n",
    "        \n",
    "        return img\n",
    "\n",
    "    "
   ]
  },
  {
   "cell_type": "code",
   "execution_count": null,
   "id": "c9c90929-7e5f-4d22-a46c-a5a0221ca358",
   "metadata": {},
   "outputs": [],
   "source": [
    "def main():\n",
    "    cap = cv2.VideoCapture('faceDetectionvideos/1.mp4')\n",
    "    pTime = 0\n",
    "    faceDetect = FaceDetector()\n",
    "    \n",
    "    while True:\n",
    "        success, img = cap.read()\n",
    "        img, bboxlist = faceDetect.findFaces(img,draw=False)\n",
    "        print(bboxlist[0])\n",
    "\n",
    "\n",
    "        cTime = time.time()\n",
    "        fps = 1/(cTime - pTime)\n",
    "        pTime = cTime\n",
    "\n",
    "        cv2.putText(img, f'FPS={int(fps)}', (20,70), cv2.FONT_HERSHEY_PLAIN, 3, (255,2,254), 2)\n",
    "        cv2.imshow('Image', img)\n",
    "        cv2.waitKey(10)\n",
    "    "
   ]
  },
  {
   "cell_type": "code",
   "execution_count": null,
   "id": "1df4e17e-777a-4c78-8321-5cba40d7128e",
   "metadata": {},
   "outputs": [],
   "source": [
    "if __name__ == '__main__':\n",
    "    main()"
   ]
  }
 ],
 "metadata": {
  "kernelspec": {
   "display_name": "Python 3",
   "language": "python",
   "name": "python3"
  },
  "language_info": {
   "codemirror_mode": {
    "name": "ipython",
    "version": 3
   },
   "file_extension": ".py",
   "mimetype": "text/x-python",
   "name": "python",
   "nbconvert_exporter": "python",
   "pygments_lexer": "ipython3",
   "version": "3.9.2"
  }
 },
 "nbformat": 4,
 "nbformat_minor": 5
}
