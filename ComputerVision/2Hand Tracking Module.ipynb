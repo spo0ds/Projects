{
 "cells": [
  {
   "cell_type": "code",
   "execution_count": null,
   "id": "37ad4cea-17f3-4d5f-9296-94dceb0880df",
   "metadata": {},
   "outputs": [],
   "source": [
    "# creating a module means next time if we're using in a project, don't have to write all of the code again \n",
    "# simply ask for the list of the 21 landmarks values \n",
    "# like give me the pixel value of point no 10 \n",
    "# which makes us easy to do more projects"
   ]
  },
  {
   "cell_type": "code",
   "execution_count": null,
   "id": "4d055ad1-55da-4af7-bbfb-2091dfd2e915",
   "metadata": {},
   "outputs": [],
   "source": [
    "import cv2\n",
    "import mediapipe as mp \n",
    "import time "
   ]
  },
  {
   "cell_type": "code",
   "execution_count": null,
   "id": "712f8397-19d1-48bd-9740-43c60b10a414",
   "metadata": {},
   "outputs": [],
   "source": [
    "class handDetector():\n",
    "    def __init__(self,mode=False, maxHands=2, detectionCon=0.5, trackCon=0.5): # parameters required for mpHands.Hands()\n",
    "        self.mode = mode          # self cause object have it's own variable like a.mode & b.mode\n",
    "        self.maxHands = maxHands\n",
    "        self.detectionCon = detectionCon\n",
    "        self.trackCon = trackCon\n",
    "        \n",
    "        self.mpHands = mp.solutions.hands\n",
    "        self.hands = self.mpHands.Hands(self.mode, self.maxHands, self.detectionCon, self.trackCon) # giving the parameter of mp.Hands.Hands function\n",
    "        self.mpDraw = mp.solutions.drawing_utils \n",
    "        \n",
    "        # above all is the initialization part\n",
    "        \n",
    "    def findHands(self, img, draw=True):  # need an img to find the hands of \n",
    "        imgRGB = cv2.cvtColor(img, cv2.COLOR_BGR2RGB) \n",
    "        self.results = self.hands.process(imgRGB)   # self cause we made it a class object \n",
    "\n",
    "\n",
    "        if self.results.multi_hand_landmarks: \n",
    "            for handLms in self.results.multi_hand_landmarks:\n",
    "                if draw :    \n",
    "                    self.mpDraw.draw_landmarks(img, handLms, self.mpHands.HAND_CONNECTIONS) \n",
    "        return img # if we've drawn then need to return the image\n",
    "    \n",
    "    def findPosition(self, img, handNo=0, draw=True ):\n",
    "        lmlist = []\n",
    "        if self.results.multi_hand_landmarks: # check again if any landmarks or hands are detected or not\n",
    "            myHand = self.results.multi_hand_landmarks[handNo] # pointing to a particular landmark\n",
    "            for id, lm in enumerate(myHand.landmark): \n",
    "                h, w, c = img.shape \n",
    "                cx, cy = int(lm.x*w), int(lm.y*h)\n",
    "                lmlist.append([id, cx, cy])\n",
    "                if draw: \n",
    "                    cv2.circle(img, (cx,cy), 5, (255,0,255), cv2.FILLED)\n",
    "                \n",
    "        return lmlist"
   ]
  },
  {
   "cell_type": "code",
   "execution_count": null,
   "id": "f626b8b6-12c6-40de-92a0-d21a82d1444c",
   "metadata": {},
   "outputs": [],
   "source": [
    "def main():\n",
    "    pTime = 0\n",
    "    cTime = 0\n",
    "    cap = cv2.VideoCapture(0)\n",
    "    detector = handDetector() # instanciating our object and giving no parameters cause default parameter is already there  \n",
    "    \n",
    "    while True:\n",
    "        success, img = cap.read()\n",
    "        img = detector.findHands(img)\n",
    "        lmlist = detector.findPosition(img)\n",
    "        \n",
    "        if len(lmlist) != 0:\n",
    "            print(lmlist[4])\n",
    "                       \n",
    "        cTime = time.time()\n",
    "        fps = 1/(cTime - pTime) \n",
    "        pTime = cTime\n",
    "    \n",
    "        cv2.putText(img, str(int(fps)), (10,70), cv2.FONT_HERSHEY_PLAIN, 3, (255,0,255), 3)\n",
    "        cv2.imshow('image',img)\n",
    "        cv2.waitKey(1) "
   ]
  },
  {
   "cell_type": "code",
   "execution_count": null,
   "id": "468da3aa-df20-44e0-9395-edbb34ba6fcf",
   "metadata": {},
   "outputs": [],
   "source": [
    "if __name__ == '__main__': # if we're running this script then call main\n",
    "    main()                 # whatever we write in the main function will this module do "
   ]
  },
  {
   "cell_type": "markdown",
   "id": "a9d38492-2a4f-425a-ab18-0c1bc7cadf78",
   "metadata": {},
   "source": [
    "#### For using the module"
   ]
  },
  {
   "cell_type": "code",
   "execution_count": null,
   "id": "fba45a9c-5aa6-4a79-8340-8fee150bab5e",
   "metadata": {},
   "outputs": [],
   "source": [
    "# copy all the code inside of main() function in another .py folder say test.py\n",
    "# import all the modules needed like opencv, time, mediapipe\n",
    "# import the name of the file containing the class and it's all object as smth \n",
    "# write smth.Classname in the main function copied code like in above detector = htm.handDetector()"
   ]
  }
 ],
 "metadata": {
  "kernelspec": {
   "display_name": "Python 3",
   "language": "python",
   "name": "python3"
  },
  "language_info": {
   "codemirror_mode": {
    "name": "ipython",
    "version": 3
   },
   "file_extension": ".py",
   "mimetype": "text/x-python",
   "name": "python",
   "nbconvert_exporter": "python",
   "pygments_lexer": "ipython3",
   "version": "3.9.2"
  }
 },
 "nbformat": 4,
 "nbformat_minor": 5
}
