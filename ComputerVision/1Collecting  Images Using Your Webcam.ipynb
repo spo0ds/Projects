{
 "cells": [
  {
   "cell_type": "code",
   "execution_count": null,
   "id": "2eab78cb-d58b-4830-9f61-c162698c8c69",
   "metadata": {},
   "outputs": [],
   "source": [
    "import cv2\n",
    "import uuid # allows to name our images uniquely\n",
    "import os \n",
    "import time # gives time to move different angle"
   ]
  },
  {
   "cell_type": "markdown",
   "id": "2752f790-b088-4ab5-8f5e-3df2d06e19ac",
   "metadata": {},
   "source": [
    "#### Images to collect"
   ]
  },
  {
   "cell_type": "code",
   "execution_count": null,
   "id": "80b9b340-e35e-42ad-978b-79e508195ceb",
   "metadata": {},
   "outputs": [],
   "source": [
    "labels = ['thumbsup', 'thumbsdown', 'thankyou', 'livelong']\n",
    "# if we have different object to detect, we change these labels\n",
    "number_imgs = 5 # number of images to collect per label"
   ]
  },
  {
   "cell_type": "markdown",
   "id": "a049ee1f-457d-47f2-9bae-9e24a4c5c704",
   "metadata": {},
   "source": [
    "#### Setting our Folders"
   ]
  },
  {
   "cell_type": "code",
   "execution_count": null,
   "id": "62148607-d5f4-4f7f-8983-e7160bcd2560",
   "metadata": {},
   "outputs": [],
   "source": [
    "IMAGES_PATH = os.path.join('TensorFlow', 'Workspace', 'Images', 'CollectedImages')\n",
    "IMAGES_PATH"
   ]
  },
  {
   "cell_type": "code",
   "execution_count": null,
   "id": "59a6c7bf-fb34-44fa-a216-f672be8fc510",
   "metadata": {},
   "outputs": [],
   "source": [
    "if not os.path.exists(IMAGES_PATH): # checking whether the path exists or not\n",
    "    if os.name == 'posix': # checks for OS being used posix: Linux\n",
    "        !mkdir -p {IMAGES_PATH}\n",
    "    if os.name == 'nt':    # nt: windows\n",
    "        !mkdir {IMAGES_PATH}\n",
    "\n",
    "for label in labels:\n",
    "    path = os.path.join(IMAGES_PATH, label)\n",
    "    if not os.path.exists(path):\n",
    "        !mkdir {path}"
   ]
  },
  {
   "cell_type": "code",
   "execution_count": null,
   "id": "b343eb7a-c4dc-4759-a025-1912bb4cb36a",
   "metadata": {},
   "outputs": [],
   "source": [
    "path"
   ]
  },
  {
   "cell_type": "markdown",
   "id": "35167162-0c75-41b3-86ca-632e5baf3b85",
   "metadata": {},
   "source": [
    "#### Capture Images"
   ]
  },
  {
   "cell_type": "raw",
   "id": "fea2b943-00c2-4f84-aeb6-4ff9ddcdc414",
   "metadata": {},
   "source": [
    "for label in labels:\n",
    "    cap = cv2.VideoCapture(0) # connect to our webcam\n",
    "    print('Collecting images for {}'.format(label))  \n",
    "    time.sleep(5) # enables us to get into position\n",
    "    \n",
    "    for imgnum in range(number_imgs):\n",
    "        print('Collecting image {}'.format(imgnum))\n",
    "        ret, frame = cap.read() # capture frame using webcam\n",
    "        imgname = os.path.join(IMAGES_PATH,label,label+'.'+'{}.jpg'.format(str(uuid.uuid1())))\n",
    "        print(imgname)\n",
    "        # join the IMAGES_PATH with creating label directory and name the image label+random_number\n",
    "        cv2.imwrite(imgname, frame) # writes into that file\n",
    "        cv2.imshow('frame', frame)  # show us that image\n",
    "        time.sleep(2) # takes 2 sec break\n",
    "\n",
    "        if cv2.waitKey(1) & 0xFF == ord('q'): # at any point if we want to escape, we can hit q\n",
    "            break\n",
    "\n",
    "# Close everything down            \n",
    "cap.release()\n",
    "cv2.destroyAllWindows()"
   ]
  },
  {
   "cell_type": "markdown",
   "id": "9054d28c-fc5e-4485-882e-c4074796e113",
   "metadata": {},
   "source": [
    "#### OpenCV Error: Unspecified error (The function is not implemented. Rebuild the library with Windows, GTK+ 2.x or Carbon support. If you are on Ubuntu or Debian, install libgtk2.0-dev and pkg-config, then re-run cmake or configure script) in cvShowImage, file /feedstock_root/build_artefacts/work/opencv-3.1.0/modules/highgui/src/window.cpp, line 545 Traceback (most recent call last): File \"untitled.py\", line 7, in cv2.imshow('image',img) cv2.error: "
   ]
  },
  {
   "cell_type": "code",
   "execution_count": null,
   "id": "f17618b5-4e6d-4706-8591-2a300f24c95f",
   "metadata": {},
   "outputs": [],
   "source": [
    "#solution : pip install opencv-contrib-python"
   ]
  },
  {
   "cell_type": "markdown",
   "id": "14f6197b-1a82-42ac-aab6-f6a9dafc0c96",
   "metadata": {},
   "source": [
    "#### Make model more effective"
   ]
  },
  {
   "cell_type": "code",
   "execution_count": null,
   "id": "b9c8da91-65d0-437a-bb02-d5a0a8f9f0ef",
   "metadata": {},
   "outputs": [],
   "source": [
    "# changing hands\n",
    "# changing the face of the hands "
   ]
  },
  {
   "cell_type": "code",
   "execution_count": null,
   "id": "fc450c96-1247-4f80-a0b4-4ae67b97a4b0",
   "metadata": {},
   "outputs": [],
   "source": [
    "LABELIMG_PATH = os.path.join('TensorFlow', 'Labelimg')"
   ]
  },
  {
   "cell_type": "code",
   "execution_count": null,
   "id": "82546ef3-a069-49e0-8c0f-413f8b295fba",
   "metadata": {},
   "outputs": [],
   "source": [
    "if not os.path.exists('LABELIMG_PATH'):\n",
    "    !mkdir {LABELIMG_PATH} # creates labeling directory inside TensorFlow\n",
    "    !git clone https://github.com/tzutalin/labelImg {LABELIMG_PATH}\n",
    "        "
   ]
  },
  {
   "cell_type": "code",
   "execution_count": null,
   "id": "2416b4ce-126b-4384-8660-f760ddb18401",
   "metadata": {},
   "outputs": [],
   "source": [
    "print(LABELIMG_PATH)"
   ]
  },
  {
   "cell_type": "raw",
   "id": "34180d2a-5573-4569-adc9-3ecdccc418f7",
   "metadata": {},
   "source": [
    "if os.name == 'posix':\n",
    "    !cd {LABELIMG_PATH} && make qt5py3# goes inside LABELIMG_PATH and runs make qt5py3 file\n",
    "if os.name =='nt':\n",
    "    !cd {LABELIMG_PATH} && pyrcc5 -o libs/resources.py resources.qrc"
   ]
  },
  {
   "cell_type": "raw",
   "id": "18ea0ed8-eff4-47fe-b2b1-07e46a1768c7",
   "metadata": {},
   "source": [
    "!cd {LABELIMG_PATH} && python3 labelImg.py # opens the label image"
   ]
  },
  {
   "cell_type": "markdown",
   "id": "e2b86bdf-8cba-4355-b589-20ea4d5fde5b",
   "metadata": {},
   "source": [
    "#### Best Practise"
   ]
  },
  {
   "cell_type": "code",
   "execution_count": null,
   "id": "b33cd2cc-a69e-4827-91f2-9c6df98dd575",
   "metadata": {},
   "outputs": [],
   "source": [
    "# Our labels will be case sensitive\n",
    "# keep label tight as possible\n",
    "# include picture at different angles"
   ]
  }
 ],
 "metadata": {
  "kernelspec": {
   "display_name": "Python 3",
   "language": "python",
   "name": "python3"
  },
  "language_info": {
   "codemirror_mode": {
    "name": "ipython",
    "version": 3
   },
   "file_extension": ".py",
   "mimetype": "text/x-python",
   "name": "python",
   "nbconvert_exporter": "python",
   "pygments_lexer": "ipython3",
   "version": "3.9.2"
  }
 },
 "nbformat": 4,
 "nbformat_minor": 5
}
