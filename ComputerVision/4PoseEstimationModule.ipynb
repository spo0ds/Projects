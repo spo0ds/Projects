{
 "cells": [
  {
   "cell_type": "code",
   "execution_count": null,
   "id": "6b7fc81d-f6c2-4449-94c7-fe7baffcf946",
   "metadata": {},
   "outputs": [],
   "source": [
    "import cv2\n",
    "import mediapipe as mp\n",
    "import time"
   ]
  },
  {
   "cell_type": "code",
   "execution_count": null,
   "id": "71f961d8-280c-4e45-bcb4-9bd671cc63af",
   "metadata": {
    "tags": []
   },
   "outputs": [],
   "source": [
    "class PoseDetector():\n",
    "    def __init__(self, mode=False, upBody=False, smooth=True, detectionCon=0.5, trackCon=0.5):\n",
    "        self.mode = mode\n",
    "        self.upBody = upBody\n",
    "        self.smooth=smooth\n",
    "        self.detectionCon=detectionCon\n",
    "        self.trackCon = trackCon\n",
    "        \n",
    "        self.mpPose = mp.solutions.pose\n",
    "        self.pose = self.mpPose.Pose(self.mode, self.upBody, self.smooth, self.detectionCon, self.trackCon)\n",
    "        self.mpDraw = mp.solutions.drawing_utils\n",
    "        \n",
    "    def findPose(self, img, draw=True):  \n",
    "        imgRGB = cv2.cvtColor(img, cv2.COLOR_BGR2RGB)\n",
    "        self.results = self.pose.process(imgRGB)\n",
    "       # print(results)\n",
    "       #print(results.pose_landmarks)\n",
    "        if self.results.pose_landmarks: # if landmarks are detected then\n",
    "            if draw: \n",
    "                self.mpDraw.draw_landmarks(img, self.results.pose_landmarks, self.mpPose.POSE_CONNECTIONS)\n",
    "                \n",
    "        return img\n",
    "    \n",
    "    def Landmarks(self, img, draw=True,lm_num=0):\n",
    "        lmList = []\n",
    "        if self.results.pose_landmarks:\n",
    "            for id, lm in enumerate(self.results.pose_landmarks.landmark):\n",
    "                h, w, c = img.shape\n",
    "                cx, cy = int(lm.x * w), int(lm.y * h)\n",
    "                if id == lm_num:\n",
    "                    lmList.append([id, cx, cy])\n",
    "                if draw:\n",
    "                    cv2.circle(img, (cx,cy), 5, (255,0,255), cv2.FILLED)\n",
    "        return lmList\n",
    "                \n",
    "            "
   ]
  },
  {
   "cell_type": "code",
   "execution_count": null,
   "id": "7e9b29f2-dc20-4018-a4b8-ca38ab8bc1fc",
   "metadata": {},
   "outputs": [],
   "source": [
    "def main():\n",
    "    cap = cv2.VideoCapture('posEstimationvideos/pexels-marc-espejo-6548148.mp4')\n",
    "    pTime = 0\n",
    "    detector = PoseDetector()\n",
    "    \n",
    "    while True:\n",
    "        success, img = cap.read()\n",
    "        img = detector.findPose(img)\n",
    "        lmList = detector.Landmarks(img, 7)\n",
    "        if len(lmList) > 0:\n",
    "            print(lmList)\n",
    "        #print(img.shape)\n",
    "        #img = cv2.resize(img, (1000,700))\n",
    "\n",
    "\n",
    "        cTime = time.time()\n",
    "        fps = 1/(cTime-pTime)\n",
    "        pTime = cTime\n",
    "\n",
    "        cv2.putText(img, str(int(fps)), (70,50), cv2.FONT_HERSHEY_PLAIN, 3, (255,0,0), 3 )\n",
    "        cv2.imshow('Image', img)\n",
    "\n",
    "        cv2.waitKey(1)   "
   ]
  },
  {
   "cell_type": "code",
   "execution_count": null,
   "id": "5eabc3c6-f878-4d44-97e4-5fc162b6bd75",
   "metadata": {},
   "outputs": [],
   "source": [
    "if __name__ == '__main__':\n",
    "    main()"
   ]
  }
 ],
 "metadata": {
  "kernelspec": {
   "display_name": "Python 3",
   "language": "python",
   "name": "python3"
  },
  "language_info": {
   "codemirror_mode": {
    "name": "ipython",
    "version": 3
   },
   "file_extension": ".py",
   "mimetype": "text/x-python",
   "name": "python",
   "nbconvert_exporter": "python",
   "pygments_lexer": "ipython3",
   "version": "3.9.2"
  }
 },
 "nbformat": 4,
 "nbformat_minor": 5
}
