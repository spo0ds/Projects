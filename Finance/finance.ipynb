{
 "cells": [
  {
   "cell_type": "code",
   "execution_count": 1,
   "id": "9270a9ec-0055-430d-975e-14c41b74ab68",
   "metadata": {},
   "outputs": [
    {
     "data": {
      "text/html": [
       "<div>\n",
       "<style scoped>\n",
       "    .dataframe tbody tr th:only-of-type {\n",
       "        vertical-align: middle;\n",
       "    }\n",
       "\n",
       "    .dataframe tbody tr th {\n",
       "        vertical-align: top;\n",
       "    }\n",
       "\n",
       "    .dataframe thead th {\n",
       "        text-align: right;\n",
       "    }\n",
       "</style>\n",
       "<table border=\"1\" class=\"dataframe\">\n",
       "  <thead>\n",
       "    <tr style=\"text-align: right;\">\n",
       "      <th></th>\n",
       "      <th>High</th>\n",
       "      <th>Low</th>\n",
       "      <th>Open</th>\n",
       "      <th>Close</th>\n",
       "      <th>Volume</th>\n",
       "      <th>Adj Close</th>\n",
       "    </tr>\n",
       "    <tr>\n",
       "      <th>Date</th>\n",
       "      <th></th>\n",
       "      <th></th>\n",
       "      <th></th>\n",
       "      <th></th>\n",
       "      <th></th>\n",
       "      <th></th>\n",
       "    </tr>\n",
       "  </thead>\n",
       "  <tbody>\n",
       "    <tr>\n",
       "      <th>2010-06-29</th>\n",
       "      <td>5.000</td>\n",
       "      <td>3.508</td>\n",
       "      <td>3.800</td>\n",
       "      <td>4.778</td>\n",
       "      <td>93831500.0</td>\n",
       "      <td>4.778</td>\n",
       "    </tr>\n",
       "    <tr>\n",
       "      <th>2010-06-30</th>\n",
       "      <td>6.084</td>\n",
       "      <td>4.660</td>\n",
       "      <td>5.158</td>\n",
       "      <td>4.766</td>\n",
       "      <td>85935500.0</td>\n",
       "      <td>4.766</td>\n",
       "    </tr>\n",
       "    <tr>\n",
       "      <th>2010-07-01</th>\n",
       "      <td>5.184</td>\n",
       "      <td>4.054</td>\n",
       "      <td>5.000</td>\n",
       "      <td>4.392</td>\n",
       "      <td>41094000.0</td>\n",
       "      <td>4.392</td>\n",
       "    </tr>\n",
       "    <tr>\n",
       "      <th>2010-07-02</th>\n",
       "      <td>4.620</td>\n",
       "      <td>3.742</td>\n",
       "      <td>4.600</td>\n",
       "      <td>3.840</td>\n",
       "      <td>25699000.0</td>\n",
       "      <td>3.840</td>\n",
       "    </tr>\n",
       "    <tr>\n",
       "      <th>2010-07-06</th>\n",
       "      <td>4.000</td>\n",
       "      <td>3.166</td>\n",
       "      <td>4.000</td>\n",
       "      <td>3.222</td>\n",
       "      <td>34334500.0</td>\n",
       "      <td>3.222</td>\n",
       "    </tr>\n",
       "  </tbody>\n",
       "</table>\n",
       "</div>"
      ],
      "text/plain": [
       "             High    Low   Open  Close      Volume  Adj Close\n",
       "Date                                                         \n",
       "2010-06-29  5.000  3.508  3.800  4.778  93831500.0      4.778\n",
       "2010-06-30  6.084  4.660  5.158  4.766  85935500.0      4.766\n",
       "2010-07-01  5.184  4.054  5.000  4.392  41094000.0      4.392\n",
       "2010-07-02  4.620  3.742  4.600  3.840  25699000.0      3.840\n",
       "2010-07-06  4.000  3.166  4.000  3.222  34334500.0      3.222"
      ]
     },
     "execution_count": 1,
     "metadata": {},
     "output_type": "execute_result"
    }
   ],
   "source": [
    "import datetime as dt # to set starting and end date for data we gonna pull\n",
    "import matplotlib.pyplot as plt \n",
    "from matplotlib import style\n",
    "import pandas as pd \n",
    "import pandas_datareader.data as web \n",
    "\n",
    "style.use('ggplot')\n",
    "\n",
    "start = dt.datetime(2000,1,1)\n",
    "end = dt.datetime.now()\n",
    "\n",
    "df = web.DataReader('TSLA','yahoo',start,end)\n",
    "df.reset_index(inplace=True)\n",
    "df.set_index(\"Date\", inplace=True)\n",
    "df.head()\n",
    "\n",
    "\n",
    "\n"
   ]
  },
  {
   "cell_type": "code",
   "execution_count": 2,
   "id": "3b09cdc9-a29e-4181-b7fa-3c79ff2da7cb",
   "metadata": {},
   "outputs": [
    {
     "data": {
      "text/html": [
       "<div>\n",
       "<style scoped>\n",
       "    .dataframe tbody tr th:only-of-type {\n",
       "        vertical-align: middle;\n",
       "    }\n",
       "\n",
       "    .dataframe tbody tr th {\n",
       "        vertical-align: top;\n",
       "    }\n",
       "\n",
       "    .dataframe thead th {\n",
       "        text-align: right;\n",
       "    }\n",
       "</style>\n",
       "<table border=\"1\" class=\"dataframe\">\n",
       "  <thead>\n",
       "    <tr style=\"text-align: right;\">\n",
       "      <th></th>\n",
       "      <th>High</th>\n",
       "      <th>Low</th>\n",
       "      <th>Open</th>\n",
       "      <th>Close</th>\n",
       "      <th>Volume</th>\n",
       "      <th>Adj Close</th>\n",
       "    </tr>\n",
       "    <tr>\n",
       "      <th>Date</th>\n",
       "      <th></th>\n",
       "      <th></th>\n",
       "      <th></th>\n",
       "      <th></th>\n",
       "      <th></th>\n",
       "      <th></th>\n",
       "    </tr>\n",
       "  </thead>\n",
       "  <tbody>\n",
       "    <tr>\n",
       "      <th>2021-04-23</th>\n",
       "      <td>737.359985</td>\n",
       "      <td>715.460022</td>\n",
       "      <td>719.799988</td>\n",
       "      <td>729.400024</td>\n",
       "      <td>28370000.0</td>\n",
       "      <td>729.400024</td>\n",
       "    </tr>\n",
       "    <tr>\n",
       "      <th>2021-04-26</th>\n",
       "      <td>749.299988</td>\n",
       "      <td>732.609985</td>\n",
       "      <td>741.000000</td>\n",
       "      <td>738.200012</td>\n",
       "      <td>31038500.0</td>\n",
       "      <td>738.200012</td>\n",
       "    </tr>\n",
       "    <tr>\n",
       "      <th>2021-04-27</th>\n",
       "      <td>724.000000</td>\n",
       "      <td>703.349976</td>\n",
       "      <td>717.960022</td>\n",
       "      <td>704.739990</td>\n",
       "      <td>29437000.0</td>\n",
       "      <td>704.739990</td>\n",
       "    </tr>\n",
       "    <tr>\n",
       "      <th>2021-04-28</th>\n",
       "      <td>708.500000</td>\n",
       "      <td>693.599976</td>\n",
       "      <td>696.409973</td>\n",
       "      <td>694.400024</td>\n",
       "      <td>22196500.0</td>\n",
       "      <td>694.400024</td>\n",
       "    </tr>\n",
       "    <tr>\n",
       "      <th>2021-04-29</th>\n",
       "      <td>702.166016</td>\n",
       "      <td>678.299988</td>\n",
       "      <td>699.510010</td>\n",
       "      <td>681.890015</td>\n",
       "      <td>11517186.0</td>\n",
       "      <td>681.890015</td>\n",
       "    </tr>\n",
       "  </tbody>\n",
       "</table>\n",
       "</div>"
      ],
      "text/plain": [
       "                  High         Low        Open       Close      Volume  \\\n",
       "Date                                                                     \n",
       "2021-04-23  737.359985  715.460022  719.799988  729.400024  28370000.0   \n",
       "2021-04-26  749.299988  732.609985  741.000000  738.200012  31038500.0   \n",
       "2021-04-27  724.000000  703.349976  717.960022  704.739990  29437000.0   \n",
       "2021-04-28  708.500000  693.599976  696.409973  694.400024  22196500.0   \n",
       "2021-04-29  702.166016  678.299988  699.510010  681.890015  11517186.0   \n",
       "\n",
       "             Adj Close  \n",
       "Date                    \n",
       "2021-04-23  729.400024  \n",
       "2021-04-26  738.200012  \n",
       "2021-04-27  704.739990  \n",
       "2021-04-28  694.400024  \n",
       "2021-04-29  681.890015  "
      ]
     },
     "execution_count": 2,
     "metadata": {},
     "output_type": "execute_result"
    }
   ],
   "source": [
    "df.tail()"
   ]
  },
  {
   "cell_type": "markdown",
   "id": "bd492eeb-f1a7-4000-882a-569374c0ebdc",
   "metadata": {},
   "source": [
    "#### Handling data & Graphing"
   ]
  },
  {
   "cell_type": "code",
   "execution_count": 3,
   "id": "da11e75a-8376-4c06-9d53-48a5c1428772",
   "metadata": {},
   "outputs": [],
   "source": [
    "df.to_csv('tesla.csv')"
   ]
  },
  {
   "cell_type": "code",
   "execution_count": 4,
   "id": "063b1c14-83e9-4525-ae9d-f77fd877bf51",
   "metadata": {},
   "outputs": [
    {
     "data": {
      "text/plain": [
       "(2728, 6)"
      ]
     },
     "execution_count": 4,
     "metadata": {},
     "output_type": "execute_result"
    }
   ],
   "source": [
    "df.shape"
   ]
  },
  {
   "cell_type": "code",
   "execution_count": 5,
   "id": "9f95088f-4988-4c76-9f47-31ad37349fe6",
   "metadata": {},
   "outputs": [
    {
     "data": {
      "text/html": [
       "<div>\n",
       "<style scoped>\n",
       "    .dataframe tbody tr th:only-of-type {\n",
       "        vertical-align: middle;\n",
       "    }\n",
       "\n",
       "    .dataframe tbody tr th {\n",
       "        vertical-align: top;\n",
       "    }\n",
       "\n",
       "    .dataframe thead th {\n",
       "        text-align: right;\n",
       "    }\n",
       "</style>\n",
       "<table border=\"1\" class=\"dataframe\">\n",
       "  <thead>\n",
       "    <tr style=\"text-align: right;\">\n",
       "      <th></th>\n",
       "      <th>Date</th>\n",
       "      <th>High</th>\n",
       "      <th>Low</th>\n",
       "      <th>Open</th>\n",
       "      <th>Close</th>\n",
       "      <th>Volume</th>\n",
       "      <th>Adj Close</th>\n",
       "    </tr>\n",
       "  </thead>\n",
       "  <tbody>\n",
       "    <tr>\n",
       "      <th>0</th>\n",
       "      <td>2010-06-29</td>\n",
       "      <td>5.000</td>\n",
       "      <td>3.508</td>\n",
       "      <td>3.800</td>\n",
       "      <td>4.778</td>\n",
       "      <td>93831500.0</td>\n",
       "      <td>4.778</td>\n",
       "    </tr>\n",
       "    <tr>\n",
       "      <th>1</th>\n",
       "      <td>2010-06-30</td>\n",
       "      <td>6.084</td>\n",
       "      <td>4.660</td>\n",
       "      <td>5.158</td>\n",
       "      <td>4.766</td>\n",
       "      <td>85935500.0</td>\n",
       "      <td>4.766</td>\n",
       "    </tr>\n",
       "    <tr>\n",
       "      <th>2</th>\n",
       "      <td>2010-07-01</td>\n",
       "      <td>5.184</td>\n",
       "      <td>4.054</td>\n",
       "      <td>5.000</td>\n",
       "      <td>4.392</td>\n",
       "      <td>41094000.0</td>\n",
       "      <td>4.392</td>\n",
       "    </tr>\n",
       "    <tr>\n",
       "      <th>3</th>\n",
       "      <td>2010-07-02</td>\n",
       "      <td>4.620</td>\n",
       "      <td>3.742</td>\n",
       "      <td>4.600</td>\n",
       "      <td>3.840</td>\n",
       "      <td>25699000.0</td>\n",
       "      <td>3.840</td>\n",
       "    </tr>\n",
       "    <tr>\n",
       "      <th>4</th>\n",
       "      <td>2010-07-06</td>\n",
       "      <td>4.000</td>\n",
       "      <td>3.166</td>\n",
       "      <td>4.000</td>\n",
       "      <td>3.222</td>\n",
       "      <td>34334500.0</td>\n",
       "      <td>3.222</td>\n",
       "    </tr>\n",
       "  </tbody>\n",
       "</table>\n",
       "</div>"
      ],
      "text/plain": [
       "         Date   High    Low   Open  Close      Volume  Adj Close\n",
       "0  2010-06-29  5.000  3.508  3.800  4.778  93831500.0      4.778\n",
       "1  2010-06-30  6.084  4.660  5.158  4.766  85935500.0      4.766\n",
       "2  2010-07-01  5.184  4.054  5.000  4.392  41094000.0      4.392\n",
       "3  2010-07-02  4.620  3.742  4.600  3.840  25699000.0      3.840\n",
       "4  2010-07-06  4.000  3.166  4.000  3.222  34334500.0      3.222"
      ]
     },
     "execution_count": 5,
     "metadata": {},
     "output_type": "execute_result"
    }
   ],
   "source": [
    "df = pd.read_csv('tesla.csv')\n",
    "df.head()"
   ]
  },
  {
   "cell_type": "code",
   "execution_count": 6,
   "id": "ce2f48cf-6f4e-4a56-a17e-277f1c4c1faa",
   "metadata": {},
   "outputs": [
    {
     "data": {
      "text/html": [
       "<div>\n",
       "<style scoped>\n",
       "    .dataframe tbody tr th:only-of-type {\n",
       "        vertical-align: middle;\n",
       "    }\n",
       "\n",
       "    .dataframe tbody tr th {\n",
       "        vertical-align: top;\n",
       "    }\n",
       "\n",
       "    .dataframe thead th {\n",
       "        text-align: right;\n",
       "    }\n",
       "</style>\n",
       "<table border=\"1\" class=\"dataframe\">\n",
       "  <thead>\n",
       "    <tr style=\"text-align: right;\">\n",
       "      <th></th>\n",
       "      <th>High</th>\n",
       "      <th>Low</th>\n",
       "      <th>Open</th>\n",
       "      <th>Close</th>\n",
       "      <th>Volume</th>\n",
       "      <th>Adj Close</th>\n",
       "    </tr>\n",
       "    <tr>\n",
       "      <th>Date</th>\n",
       "      <th></th>\n",
       "      <th></th>\n",
       "      <th></th>\n",
       "      <th></th>\n",
       "      <th></th>\n",
       "      <th></th>\n",
       "    </tr>\n",
       "  </thead>\n",
       "  <tbody>\n",
       "    <tr>\n",
       "      <th>2010-06-29</th>\n",
       "      <td>5.000</td>\n",
       "      <td>3.508</td>\n",
       "      <td>3.800</td>\n",
       "      <td>4.778</td>\n",
       "      <td>93831500.0</td>\n",
       "      <td>4.778</td>\n",
       "    </tr>\n",
       "    <tr>\n",
       "      <th>2010-06-30</th>\n",
       "      <td>6.084</td>\n",
       "      <td>4.660</td>\n",
       "      <td>5.158</td>\n",
       "      <td>4.766</td>\n",
       "      <td>85935500.0</td>\n",
       "      <td>4.766</td>\n",
       "    </tr>\n",
       "    <tr>\n",
       "      <th>2010-07-01</th>\n",
       "      <td>5.184</td>\n",
       "      <td>4.054</td>\n",
       "      <td>5.000</td>\n",
       "      <td>4.392</td>\n",
       "      <td>41094000.0</td>\n",
       "      <td>4.392</td>\n",
       "    </tr>\n",
       "    <tr>\n",
       "      <th>2010-07-02</th>\n",
       "      <td>4.620</td>\n",
       "      <td>3.742</td>\n",
       "      <td>4.600</td>\n",
       "      <td>3.840</td>\n",
       "      <td>25699000.0</td>\n",
       "      <td>3.840</td>\n",
       "    </tr>\n",
       "    <tr>\n",
       "      <th>2010-07-06</th>\n",
       "      <td>4.000</td>\n",
       "      <td>3.166</td>\n",
       "      <td>4.000</td>\n",
       "      <td>3.222</td>\n",
       "      <td>34334500.0</td>\n",
       "      <td>3.222</td>\n",
       "    </tr>\n",
       "  </tbody>\n",
       "</table>\n",
       "</div>"
      ],
      "text/plain": [
       "             High    Low   Open  Close      Volume  Adj Close\n",
       "Date                                                         \n",
       "2010-06-29  5.000  3.508  3.800  4.778  93831500.0      4.778\n",
       "2010-06-30  6.084  4.660  5.158  4.766  85935500.0      4.766\n",
       "2010-07-01  5.184  4.054  5.000  4.392  41094000.0      4.392\n",
       "2010-07-02  4.620  3.742  4.600  3.840  25699000.0      3.840\n",
       "2010-07-06  4.000  3.166  4.000  3.222  34334500.0      3.222"
      ]
     },
     "execution_count": 6,
     "metadata": {},
     "output_type": "execute_result"
    }
   ],
   "source": [
    "df = pd.read_csv('tesla.csv',parse_dates=True,index_col = 0)\n",
    "df.head()"
   ]
  },
  {
   "cell_type": "code",
   "execution_count": 7,
   "id": "3523ed3a-1980-4ae8-b9c6-9ac09b5508cf",
   "metadata": {},
   "outputs": [
    {
     "data": {
      "text/plain": [
       "<AxesSubplot:xlabel='Date'>"
      ]
     },
     "execution_count": 7,
     "metadata": {},
     "output_type": "execute_result"
    },
    {
     "data": {
      "image/png": "[encoded data removed]",
      "text/plain": [
       "<Figure size 432x288 with 1 Axes>"
      ]
     },
     "metadata": {},
     "output_type": "display_data"
    }
   ],
   "source": [
    "df.plot()\n",
    "#plt.show if not on jyupter-notebook"
   ]
  },
  {
   "cell_type": "code",
   "execution_count": 8,
   "id": "135c95f6-7e30-4f2b-b1a9-4fae76e55e24",
   "metadata": {},
   "outputs": [
    {
     "data": {
      "text/plain": [
       "<AxesSubplot:xlabel='Date'>"
      ]
     },
     "execution_count": 8,
     "metadata": {},
     "output_type": "execute_result"
    },
    {
     "data": {
      "image/png": "[encoded data removed]",
      "text/plain": [
       "<Figure size 432x288 with 1 Axes>"
      ]
     },
     "metadata": {},
     "output_type": "display_data"
    }
   ],
   "source": [
    "df['Adj Close'].plot()"
   ]
  },
  {
   "cell_type": "code",
   "execution_count": 9,
   "id": "b947e432-3523-40bb-9969-fee3407209cb",
   "metadata": {},
   "outputs": [
    {
     "data": {
      "text/plain": [
       "<AxesSubplot:xlabel='Date'>"
      ]
     },
     "execution_count": 9,
     "metadata": {},
     "output_type": "execute_result"
    },
    {
     "data": {
      "image/png": "[encoded data removed]",
      "text/plain": [
       "<Figure size 432x288 with 1 Axes>"
      ]
     },
     "metadata": {},
     "output_type": "display_data"
    }
   ],
   "source": [
    "df['High'].plot()"
   ]
  },
  {
   "cell_type": "code",
   "execution_count": 10,
   "id": "ba3d4f4f-8435-47ec-8dbe-e35c6017f648",
   "metadata": {},
   "outputs": [
    {
     "data": {
      "text/html": [
       "<div>\n",
       "<style scoped>\n",
       "    .dataframe tbody tr th:only-of-type {\n",
       "        vertical-align: middle;\n",
       "    }\n",
       "\n",
       "    .dataframe tbody tr th {\n",
       "        vertical-align: top;\n",
       "    }\n",
       "\n",
       "    .dataframe thead th {\n",
       "        text-align: right;\n",
       "    }\n",
       "</style>\n",
       "<table border=\"1\" class=\"dataframe\">\n",
       "  <thead>\n",
       "    <tr style=\"text-align: right;\">\n",
       "      <th></th>\n",
       "      <th>High</th>\n",
       "      <th>Low</th>\n",
       "    </tr>\n",
       "    <tr>\n",
       "      <th>Date</th>\n",
       "      <th></th>\n",
       "      <th></th>\n",
       "    </tr>\n",
       "  </thead>\n",
       "  <tbody>\n",
       "    <tr>\n",
       "      <th>2010-06-29</th>\n",
       "      <td>5.000</td>\n",
       "      <td>3.508</td>\n",
       "    </tr>\n",
       "    <tr>\n",
       "      <th>2010-06-30</th>\n",
       "      <td>6.084</td>\n",
       "      <td>4.660</td>\n",
       "    </tr>\n",
       "    <tr>\n",
       "      <th>2010-07-01</th>\n",
       "      <td>5.184</td>\n",
       "      <td>4.054</td>\n",
       "    </tr>\n",
       "    <tr>\n",
       "      <th>2010-07-02</th>\n",
       "      <td>4.620</td>\n",
       "      <td>3.742</td>\n",
       "    </tr>\n",
       "    <tr>\n",
       "      <th>2010-07-06</th>\n",
       "      <td>4.000</td>\n",
       "      <td>3.166</td>\n",
       "    </tr>\n",
       "  </tbody>\n",
       "</table>\n",
       "</div>"
      ],
      "text/plain": [
       "             High    Low\n",
       "Date                    \n",
       "2010-06-29  5.000  3.508\n",
       "2010-06-30  6.084  4.660\n",
       "2010-07-01  5.184  4.054\n",
       "2010-07-02  4.620  3.742\n",
       "2010-07-06  4.000  3.166"
      ]
     },
     "execution_count": 10,
     "metadata": {},
     "output_type": "execute_result"
    }
   ],
   "source": [
    "df[['High','Low']].head()"
   ]
  },
  {
   "cell_type": "markdown",
   "id": "cabd4f13-af31-44de-9599-0777099c7413",
   "metadata": {},
   "source": [
    "#### Data Manipulation"
   ]
  },
  {
   "cell_type": "code",
   "execution_count": 11,
   "id": "46ab6ca3-787f-4409-bf69-b606f1c7ecd9",
   "metadata": {},
   "outputs": [],
   "source": [
    "#df['100ma'] = df['Adj Close'].rolling(window = 100).mean()\n",
    "#df.head()"
   ]
  },
  {
   "cell_type": "code",
   "execution_count": 12,
   "id": "ff65766d-e5d0-41aa-84cd-9b0b0f2ec30e",
   "metadata": {},
   "outputs": [
    {
     "data": {
      "text/html": [
       "<div>\n",
       "<style scoped>\n",
       "    .dataframe tbody tr th:only-of-type {\n",
       "        vertical-align: middle;\n",
       "    }\n",
       "\n",
       "    .dataframe tbody tr th {\n",
       "        vertical-align: top;\n",
       "    }\n",
       "\n",
       "    .dataframe thead th {\n",
       "        text-align: right;\n",
       "    }\n",
       "</style>\n",
       "<table border=\"1\" class=\"dataframe\">\n",
       "  <thead>\n",
       "    <tr style=\"text-align: right;\">\n",
       "      <th></th>\n",
       "      <th>High</th>\n",
       "      <th>Low</th>\n",
       "      <th>Open</th>\n",
       "      <th>Close</th>\n",
       "      <th>Volume</th>\n",
       "      <th>Adj Close</th>\n",
       "    </tr>\n",
       "    <tr>\n",
       "      <th>Date</th>\n",
       "      <th></th>\n",
       "      <th></th>\n",
       "      <th></th>\n",
       "      <th></th>\n",
       "      <th></th>\n",
       "      <th></th>\n",
       "    </tr>\n",
       "  </thead>\n",
       "  <tbody>\n",
       "    <tr>\n",
       "      <th>2021-04-23</th>\n",
       "      <td>737.359985</td>\n",
       "      <td>715.460022</td>\n",
       "      <td>719.799988</td>\n",
       "      <td>729.400024</td>\n",
       "      <td>28370000.0</td>\n",
       "      <td>729.400024</td>\n",
       "    </tr>\n",
       "    <tr>\n",
       "      <th>2021-04-26</th>\n",
       "      <td>749.299988</td>\n",
       "      <td>732.609985</td>\n",
       "      <td>741.000000</td>\n",
       "      <td>738.200012</td>\n",
       "      <td>31038500.0</td>\n",
       "      <td>738.200012</td>\n",
       "    </tr>\n",
       "    <tr>\n",
       "      <th>2021-04-27</th>\n",
       "      <td>724.000000</td>\n",
       "      <td>703.349976</td>\n",
       "      <td>717.960022</td>\n",
       "      <td>704.739990</td>\n",
       "      <td>29437000.0</td>\n",
       "      <td>704.739990</td>\n",
       "    </tr>\n",
       "    <tr>\n",
       "      <th>2021-04-28</th>\n",
       "      <td>708.500000</td>\n",
       "      <td>693.599976</td>\n",
       "      <td>696.409973</td>\n",
       "      <td>694.400024</td>\n",
       "      <td>22196500.0</td>\n",
       "      <td>694.400024</td>\n",
       "    </tr>\n",
       "    <tr>\n",
       "      <th>2021-04-29</th>\n",
       "      <td>702.166016</td>\n",
       "      <td>678.299988</td>\n",
       "      <td>699.510010</td>\n",
       "      <td>681.890015</td>\n",
       "      <td>11517186.0</td>\n",
       "      <td>681.890015</td>\n",
       "    </tr>\n",
       "  </tbody>\n",
       "</table>\n",
       "</div>"
      ],
      "text/plain": [
       "                  High         Low        Open       Close      Volume  \\\n",
       "Date                                                                     \n",
       "2021-04-23  737.359985  715.460022  719.799988  729.400024  28370000.0   \n",
       "2021-04-26  749.299988  732.609985  741.000000  738.200012  31038500.0   \n",
       "2021-04-27  724.000000  703.349976  717.960022  704.739990  29437000.0   \n",
       "2021-04-28  708.500000  693.599976  696.409973  694.400024  22196500.0   \n",
       "2021-04-29  702.166016  678.299988  699.510010  681.890015  11517186.0   \n",
       "\n",
       "             Adj Close  \n",
       "Date                    \n",
       "2021-04-23  729.400024  \n",
       "2021-04-26  738.200012  \n",
       "2021-04-27  704.739990  \n",
       "2021-04-28  694.400024  \n",
       "2021-04-29  681.890015  "
      ]
     },
     "execution_count": 12,
     "metadata": {},
     "output_type": "execute_result"
    }
   ],
   "source": [
    "df.tail()"
   ]
  },
  {
   "cell_type": "code",
   "execution_count": 13,
   "id": "ebe487c3-1165-495b-ab71-2ad0b4dbb34d",
   "metadata": {},
   "outputs": [],
   "source": [
    "#df.dropna(inplace = True)\n",
    "#df.head()"
   ]
  },
  {
   "cell_type": "code",
   "execution_count": 14,
   "id": "79fbb681-53b4-4ff7-95d8-1bf3c1298318",
   "metadata": {},
   "outputs": [
    {
     "data": {
      "text/html": [
       "<div>\n",
       "<style scoped>\n",
       "    .dataframe tbody tr th:only-of-type {\n",
       "        vertical-align: middle;\n",
       "    }\n",
       "\n",
       "    .dataframe tbody tr th {\n",
       "        vertical-align: top;\n",
       "    }\n",
       "\n",
       "    .dataframe thead th {\n",
       "        text-align: right;\n",
       "    }\n",
       "</style>\n",
       "<table border=\"1\" class=\"dataframe\">\n",
       "  <thead>\n",
       "    <tr style=\"text-align: right;\">\n",
       "      <th></th>\n",
       "      <th>High</th>\n",
       "      <th>Low</th>\n",
       "      <th>Open</th>\n",
       "      <th>Close</th>\n",
       "      <th>Volume</th>\n",
       "      <th>Adj Close</th>\n",
       "      <th>100ma</th>\n",
       "    </tr>\n",
       "    <tr>\n",
       "      <th>Date</th>\n",
       "      <th></th>\n",
       "      <th></th>\n",
       "      <th></th>\n",
       "      <th></th>\n",
       "      <th></th>\n",
       "      <th></th>\n",
       "      <th></th>\n",
       "    </tr>\n",
       "  </thead>\n",
       "  <tbody>\n",
       "    <tr>\n",
       "      <th>2010-06-29</th>\n",
       "      <td>5.000</td>\n",
       "      <td>3.508</td>\n",
       "      <td>3.800</td>\n",
       "      <td>4.778</td>\n",
       "      <td>93831500.0</td>\n",
       "      <td>4.778</td>\n",
       "      <td>4.778000</td>\n",
       "    </tr>\n",
       "    <tr>\n",
       "      <th>2010-06-30</th>\n",
       "      <td>6.084</td>\n",
       "      <td>4.660</td>\n",
       "      <td>5.158</td>\n",
       "      <td>4.766</td>\n",
       "      <td>85935500.0</td>\n",
       "      <td>4.766</td>\n",
       "      <td>4.772000</td>\n",
       "    </tr>\n",
       "    <tr>\n",
       "      <th>2010-07-01</th>\n",
       "      <td>5.184</td>\n",
       "      <td>4.054</td>\n",
       "      <td>5.000</td>\n",
       "      <td>4.392</td>\n",
       "      <td>41094000.0</td>\n",
       "      <td>4.392</td>\n",
       "      <td>4.645333</td>\n",
       "    </tr>\n",
       "    <tr>\n",
       "      <th>2010-07-02</th>\n",
       "      <td>4.620</td>\n",
       "      <td>3.742</td>\n",
       "      <td>4.600</td>\n",
       "      <td>3.840</td>\n",
       "      <td>25699000.0</td>\n",
       "      <td>3.840</td>\n",
       "      <td>4.444000</td>\n",
       "    </tr>\n",
       "    <tr>\n",
       "      <th>2010-07-06</th>\n",
       "      <td>4.000</td>\n",
       "      <td>3.166</td>\n",
       "      <td>4.000</td>\n",
       "      <td>3.222</td>\n",
       "      <td>34334500.0</td>\n",
       "      <td>3.222</td>\n",
       "      <td>4.199600</td>\n",
       "    </tr>\n",
       "  </tbody>\n",
       "</table>\n",
       "</div>"
      ],
      "text/plain": [
       "             High    Low   Open  Close      Volume  Adj Close     100ma\n",
       "Date                                                                   \n",
       "2010-06-29  5.000  3.508  3.800  4.778  93831500.0      4.778  4.778000\n",
       "2010-06-30  6.084  4.660  5.158  4.766  85935500.0      4.766  4.772000\n",
       "2010-07-01  5.184  4.054  5.000  4.392  41094000.0      4.392  4.645333\n",
       "2010-07-02  4.620  3.742  4.600  3.840  25699000.0      3.840  4.444000\n",
       "2010-07-06  4.000  3.166  4.000  3.222  34334500.0      3.222  4.199600"
      ]
     },
     "execution_count": 14,
     "metadata": {},
     "output_type": "execute_result"
    }
   ],
   "source": [
    "df['100ma'] = df['Adj Close'].rolling(window = 100,min_periods = 0).mean()\n",
    "df.head()"
   ]
  },
  {
   "cell_type": "code",
   "execution_count": 15,
   "id": "714fd018-46b9-49f8-a669-baf81c6a21b2",
   "metadata": {},
   "outputs": [
    {
     "data": {
      "text/plain": [
       "<BarContainer object of 2728 artists>"
      ]
     },
     "execution_count": 15,
     "metadata": {},
     "output_type": "execute_result"
    },
    {
     "data": {
      "image/png": "[encoded data removed]",
      "text/plain": [
       "<Figure size 432x288 with 2 Axes>"
      ]
     },
     "metadata": {},
     "output_type": "display_data"
    }
   ],
   "source": [
    "ax1 = plt.subplot2grid((6,1),(0,0),rowspan = 5, colspan = 1) #first parameter is gridsize,2nd is starting point\n",
    "ax2 = plt.subplot2grid((6,1),(5,0),rowspan = 1, colspan = 1)\n",
    "ax1.plot(df.index,df['Adj Close'])\n",
    "ax1.plot(df.index,df['100ma'])\n",
    "ax2.bar(df.index,df['Volume'])"
   ]
  },
  {
   "cell_type": "code",
   "execution_count": 16,
   "id": "1203b12a-d100-4f7d-936a-df4a38d1b59c",
   "metadata": {},
   "outputs": [
    {
     "data": {
      "text/plain": [
       "<BarContainer object of 2728 artists>"
      ]
     },
     "execution_count": 16,
     "metadata": {},
     "output_type": "execute_result"
    },
    {
     "data": {
      "image/png": "[encoded data removed]",
      "text/plain": [
       "<Figure size 432x288 with 2 Axes>"
      ]
     },
     "metadata": {},
     "output_type": "display_data"
    }
   ],
   "source": [
    "ax1 = plt.subplot2grid((6,1),(0,0),rowspan = 5, colspan = 1) #first parameter is gridsize,2nd is starting point\n",
    "ax2 = plt.subplot2grid((6,1),(5,0),rowspan = 1, colspan = 1,sharex=ax1)\n",
    "ax1.plot(df.index,df['Adj Close'])\n",
    "ax1.plot(df.index,df['100ma'])\n",
    "ax2.bar(df.index,df['Volume'])"
   ]
  },
  {
   "cell_type": "markdown",
   "id": "e3bc1524-60c5-454d-9354-8f8af035b8d3",
   "metadata": {},
   "source": [
    "#### More Data Manipulation"
   ]
  },
  {
   "cell_type": "code",
   "execution_count": 17,
   "id": "5ac757f5-bf62-4df0-897b-52d902b7b70c",
   "metadata": {},
   "outputs": [],
   "source": [
    "df_ohlc = df['Adj Close'].resample('10D').ohlc()\n",
    "df_volume = df['Volume'].resample('10D').sum()"
   ]
  },
  {
   "cell_type": "code",
   "execution_count": 18,
   "id": "21b64598-6c54-4222-9677-effc1d8a9a2a",
   "metadata": {},
   "outputs": [
    {
     "data": {
      "text/html": [
       "<div>\n",
       "<style scoped>\n",
       "    .dataframe tbody tr th:only-of-type {\n",
       "        vertical-align: middle;\n",
       "    }\n",
       "\n",
       "    .dataframe tbody tr th {\n",
       "        vertical-align: top;\n",
       "    }\n",
       "\n",
       "    .dataframe thead th {\n",
       "        text-align: right;\n",
       "    }\n",
       "</style>\n",
       "<table border=\"1\" class=\"dataframe\">\n",
       "  <thead>\n",
       "    <tr style=\"text-align: right;\">\n",
       "      <th></th>\n",
       "      <th>open</th>\n",
       "      <th>high</th>\n",
       "      <th>low</th>\n",
       "      <th>close</th>\n",
       "    </tr>\n",
       "    <tr>\n",
       "      <th>Date</th>\n",
       "      <th></th>\n",
       "      <th></th>\n",
       "      <th></th>\n",
       "      <th></th>\n",
       "    </tr>\n",
       "  </thead>\n",
       "  <tbody>\n",
       "    <tr>\n",
       "      <th>2010-06-29</th>\n",
       "      <td>4.778</td>\n",
       "      <td>4.778</td>\n",
       "      <td>3.160</td>\n",
       "      <td>3.492</td>\n",
       "    </tr>\n",
       "    <tr>\n",
       "      <th>2010-07-09</th>\n",
       "      <td>3.480</td>\n",
       "      <td>4.128</td>\n",
       "      <td>3.410</td>\n",
       "      <td>4.128</td>\n",
       "    </tr>\n",
       "    <tr>\n",
       "      <th>2010-07-19</th>\n",
       "      <td>4.382</td>\n",
       "      <td>4.382</td>\n",
       "      <td>4.044</td>\n",
       "      <td>4.144</td>\n",
       "    </tr>\n",
       "    <tr>\n",
       "      <th>2010-07-29</th>\n",
       "      <td>4.070</td>\n",
       "      <td>4.390</td>\n",
       "      <td>3.918</td>\n",
       "      <td>3.918</td>\n",
       "    </tr>\n",
       "    <tr>\n",
       "      <th>2010-08-08</th>\n",
       "      <td>3.920</td>\n",
       "      <td>3.920</td>\n",
       "      <td>3.520</td>\n",
       "      <td>3.830</td>\n",
       "    </tr>\n",
       "  </tbody>\n",
       "</table>\n",
       "</div>"
      ],
      "text/plain": [
       "             open   high    low  close\n",
       "Date                                  \n",
       "2010-06-29  4.778  4.778  3.160  3.492\n",
       "2010-07-09  3.480  4.128  3.410  4.128\n",
       "2010-07-19  4.382  4.382  4.044  4.144\n",
       "2010-07-29  4.070  4.390  3.918  3.918\n",
       "2010-08-08  3.920  3.920  3.520  3.830"
      ]
     },
     "execution_count": 18,
     "metadata": {},
     "output_type": "execute_result"
    }
   ],
   "source": [
    "df_ohlc.head()"
   ]
  },
  {
   "cell_type": "code",
   "execution_count": 19,
   "id": "2fa6da79-dec5-461b-87ba-ab4ccbf5ae35",
   "metadata": {},
   "outputs": [],
   "source": [
    "import mplfinance as mpf\n",
    "import matplotlib.dates as mdates"
   ]
  },
  {
   "cell_type": "code",
   "execution_count": 20,
   "id": "1116d435-4135-47c1-b6e1-6aa73be9e749",
   "metadata": {},
   "outputs": [],
   "source": [
    "# CandleStick wants open,high,low,close and as well as dates in dates format"
   ]
  },
  {
   "cell_type": "code",
   "execution_count": 21,
   "id": "ce3be84a-b38f-4520-9ac8-9dd0b43b44e3",
   "metadata": {},
   "outputs": [],
   "source": [
    "#df_ohlc.reset_index(inplace = True)\n",
    "#df_ohlc.head()"
   ]
  },
  {
   "cell_type": "code",
   "execution_count": 22,
   "id": "a8f285d5-cb7a-41d7-b95a-349d1e4a40b4",
   "metadata": {},
   "outputs": [],
   "source": [
    "#df_ohlc['Date'] = df_ohlc['Date'].map(mdates.date2num)\n",
    "#df_ohlc.head()"
   ]
  },
  {
   "cell_type": "code",
   "execution_count": 23,
   "id": "101cdbd8-2897-41d5-b351-392b45344834",
   "metadata": {},
   "outputs": [],
   "source": [
    "#ax1 = plt.subplot2grid((6,1),(0,0),rowspan = 5, colspan = 1) \n",
    "#ax2 = plt.subplot2grid((6,1),(5,0),rowspan = 1, colspan = 1,sharex=ax1)\n",
    "#ax1.xaxis_dates()"
   ]
  },
  {
   "cell_type": "code",
   "execution_count": 24,
   "id": "3392eef0-8104-4e16-8efb-714745ab457d",
   "metadata": {},
   "outputs": [
    {
     "data": {
      "image/png": "[encoded data removed]",
      "text/plain": [
       "<Figure size 1437.5x575 with 4 Axes>"
      ]
     },
     "metadata": {},
     "output_type": "display_data"
    }
   ],
   "source": [
    "mpf.plot(df, type='line', style='charles',\n",
    "\n",
    "            title='  ',\n",
    "\n",
    "            ylabel='  ',\n",
    "\n",
    "            ylabel_lower='  ',\n",
    "\n",
    "            figratio=(25,10),\n",
    "\n",
    "            figscale=1,\n",
    "\n",
    "            mav=50,\n",
    "\n",
    "            volume=True,\n",
    "         \n",
    "            tight_layout=True\n",
    "\n",
    "            )"
   ]
  },
  {
   "cell_type": "code",
   "execution_count": 25,
   "id": "be08134f-2a8e-4341-9d82-b5cd8b3cfe8d",
   "metadata": {},
   "outputs": [
    {
     "name": "stderr",
     "output_type": "stream",
     "text": [
      "/home/spooderman/.local/lib/python3.9/site-packages/mplfinance/_arg_validators.py:35: UserWarning: \n",
      "\n",
      " ================================================================= \n",
      "\n",
      "   WARNING: YOU ARE PLOTTING SO MUCH DATA THAT IT MAY NOT BE\n",
      "            POSSIBLE TO SEE DETAILS (Candles, Ohlc-Bars, Etc.)\n",
      "   For more information see:\n",
      "   - https://github.com/matplotlib/mplfinance/wiki/Plotting-Too-Much-Data\n",
      "   \n",
      "   TO SILENCE THIS WARNING, set `type='line'` in `mpf.plot()`\n",
      "   OR set kwarg `warn_too_much_data=N` where N is an integer \n",
      "   LARGER than the number of data points you want to plot.\n",
      "\n",
      " ================================================================ \n",
      "  warnings.warn('\\n\\n ================================================================= '+\n"
     ]
    },
    {
     "data": {
      "image/png": "[encoded data removed]",
      "text/plain": [
       "<Figure size 672.031x488.75 with 4 Axes>"
      ]
     },
     "metadata": {},
     "output_type": "display_data"
    }
   ],
   "source": [
    "mpf.plot(df,type='candle',mav=10,volume=True,figratio=(11,8),figscale=.85,style='yahoo')"
   ]
  },
  {
   "cell_type": "code",
   "execution_count": 26,
   "id": "47bbede4-744b-4f61-9830-ab6a4ae432be",
   "metadata": {},
   "outputs": [
    {
     "data": {
      "image/png": "[encoded data removed]",
      "text/plain": [
       "<Figure size 672.031x488.75 with 4 Axes>"
      ]
     },
     "metadata": {},
     "output_type": "display_data"
    }
   ],
   "source": [
    "df_ohlc.columns = df_ohlc.columns.str.capitalize()\n",
    "df_volume = mpf.make_addplot(df_volume,panel=1,color='b')\n",
    "mpf.plot(df_ohlc,addplot=df_volume,type='candle',volume=False,figratio=(11,8),figscale=.85,style='yahoo')"
   ]
  },
  {
   "cell_type": "code",
   "execution_count": 27,
   "id": "3f9977f1-c312-4b7d-9ac9-3894bee58584",
   "metadata": {},
   "outputs": [
    {
     "ename": "ValueError",
     "evalue": "not enough values to unpack (expected 5, got 4)",
     "output_type": "error",
     "traceback": [
      "\u001b[0;31m---------------------------------------------------------------------------\u001b[0m",
      "\u001b[0;31mValueError\u001b[0m                                Traceback (most recent call last)",
      "\u001b[0;32m<ipython-input-27-a74078aadf6c>\u001b[0m in \u001b[0;36m<module>\u001b[0;34m\u001b[0m\n\u001b[1;32m      5\u001b[0m \u001b[0max1\u001b[0m\u001b[0;34m.\u001b[0m\u001b[0mxaxis_date\u001b[0m\u001b[0;34m(\u001b[0m\u001b[0;34m)\u001b[0m\u001b[0;34m\u001b[0m\u001b[0;34m\u001b[0m\u001b[0m\n\u001b[1;32m      6\u001b[0m \u001b[0;34m\u001b[0m\u001b[0m\n\u001b[0;32m----> 7\u001b[0;31m \u001b[0mcandlestick_ohlc\u001b[0m\u001b[0;34m(\u001b[0m\u001b[0max1\u001b[0m\u001b[0;34m,\u001b[0m\u001b[0mdf_ohlc\u001b[0m\u001b[0;34m.\u001b[0m\u001b[0mvalues\u001b[0m\u001b[0;34m,\u001b[0m\u001b[0mwidth\u001b[0m\u001b[0;34m=\u001b[0m\u001b[0;36m2\u001b[0m\u001b[0;34m,\u001b[0m\u001b[0mcolorup\u001b[0m\u001b[0;34m=\u001b[0m\u001b[0;34m'g'\u001b[0m\u001b[0;34m,\u001b[0m\u001b[0mcolordown\u001b[0m\u001b[0;34m=\u001b[0m\u001b[0;34m'r'\u001b[0m\u001b[0;34m)\u001b[0m\u001b[0;34m\u001b[0m\u001b[0;34m\u001b[0m\u001b[0m\n\u001b[0m\u001b[1;32m      8\u001b[0m \u001b[0max2\u001b[0m\u001b[0;34m.\u001b[0m\u001b[0mfill_between\u001b[0m\u001b[0;34m(\u001b[0m\u001b[0mdf_volume\u001b[0m\u001b[0;34m.\u001b[0m\u001b[0mindex\u001b[0m\u001b[0;34m.\u001b[0m\u001b[0mmap\u001b[0m\u001b[0;34m(\u001b[0m\u001b[0mmdates\u001b[0m\u001b[0;34m.\u001b[0m\u001b[0mdate2num\u001b[0m\u001b[0;34m)\u001b[0m\u001b[0;34m,\u001b[0m\u001b[0mdf_volume\u001b[0m\u001b[0;34m.\u001b[0m\u001b[0mvalues\u001b[0m\u001b[0;34m,\u001b[0m\u001b[0;36m0\u001b[0m\u001b[0;34m)\u001b[0m\u001b[0;34m\u001b[0m\u001b[0;34m\u001b[0m\u001b[0m\n",
      "\u001b[0;32m~/.local/lib/python3.9/site-packages/mplfinance/original_flavor.py\u001b[0m in \u001b[0;36mcandlestick_ohlc\u001b[0;34m(ax, quotes, width, colorup, colordown, alpha)\u001b[0m\n\u001b[1;32m    232\u001b[0m \u001b[0;34m\u001b[0m\u001b[0m\n\u001b[1;32m    233\u001b[0m     \"\"\"\n\u001b[0;32m--> 234\u001b[0;31m     return _candlestick(ax, quotes, width=width, colorup=colorup,\n\u001b[0m\u001b[1;32m    235\u001b[0m                         \u001b[0mcolordown\u001b[0m\u001b[0;34m=\u001b[0m\u001b[0mcolordown\u001b[0m\u001b[0;34m,\u001b[0m\u001b[0;34m\u001b[0m\u001b[0;34m\u001b[0m\u001b[0m\n\u001b[1;32m    236\u001b[0m                         alpha=alpha, ochl=False)\n",
      "\u001b[0;32m~/.local/lib/python3.9/site-packages/mplfinance/original_flavor.py\u001b[0m in \u001b[0;36m_candlestick\u001b[0;34m(ax, quotes, width, colorup, colordown, alpha, ochl)\u001b[0m\n\u001b[1;32m    281\u001b[0m             \u001b[0mt\u001b[0m\u001b[0;34m,\u001b[0m \u001b[0mopen\u001b[0m\u001b[0;34m,\u001b[0m \u001b[0mclose\u001b[0m\u001b[0;34m,\u001b[0m \u001b[0mhigh\u001b[0m\u001b[0;34m,\u001b[0m \u001b[0mlow\u001b[0m \u001b[0;34m=\u001b[0m \u001b[0mq\u001b[0m\u001b[0;34m[\u001b[0m\u001b[0;34m:\u001b[0m\u001b[0;36m5\u001b[0m\u001b[0;34m]\u001b[0m\u001b[0;34m\u001b[0m\u001b[0;34m\u001b[0m\u001b[0m\n\u001b[1;32m    282\u001b[0m         \u001b[0;32melse\u001b[0m\u001b[0;34m:\u001b[0m\u001b[0;34m\u001b[0m\u001b[0;34m\u001b[0m\u001b[0m\n\u001b[0;32m--> 283\u001b[0;31m             \u001b[0mt\u001b[0m\u001b[0;34m,\u001b[0m \u001b[0mopen\u001b[0m\u001b[0;34m,\u001b[0m \u001b[0mhigh\u001b[0m\u001b[0;34m,\u001b[0m \u001b[0mlow\u001b[0m\u001b[0;34m,\u001b[0m \u001b[0mclose\u001b[0m \u001b[0;34m=\u001b[0m \u001b[0mq\u001b[0m\u001b[0;34m[\u001b[0m\u001b[0;34m:\u001b[0m\u001b[0;36m5\u001b[0m\u001b[0;34m]\u001b[0m\u001b[0;34m\u001b[0m\u001b[0;34m\u001b[0m\u001b[0m\n\u001b[0m\u001b[1;32m    284\u001b[0m \u001b[0;34m\u001b[0m\u001b[0m\n\u001b[1;32m    285\u001b[0m         \u001b[0;32mif\u001b[0m \u001b[0mclose\u001b[0m \u001b[0;34m>=\u001b[0m \u001b[0mopen\u001b[0m\u001b[0;34m:\u001b[0m\u001b[0;34m\u001b[0m\u001b[0;34m\u001b[0m\u001b[0m\n",
      "\u001b[0;31mValueError\u001b[0m: not enough values to unpack (expected 5, got 4)"
     ]
    },
    {
     "data": {
      "image/png": "[encoded data removed]",
      "text/plain": [
       "<Figure size 640x480 with 2 Axes>"
      ]
     },
     "metadata": {},
     "output_type": "display_data"
    }
   ],
   "source": [
    "from mplfinance.original_flavor import candlestick_ohlc\n",
    "\n",
    "ax1 = plt.subplot2grid((6,1),(0,0),rowspan = 5, colspan = 1) \n",
    "ax2 = plt.subplot2grid((6,1),(5,0),rowspan = 1, colspan = 1,sharex=ax1)\n",
    "ax1.xaxis_date()\n",
    "\n",
    "candlestick_ohlc(ax1,df_ohlc.values,width=2,colorup='g',colordown='r')\n",
    "ax2.fill_between(df_volume.index.map(mdates.date2num),df_volume.values,0)"
   ]
  },
  {
   "cell_type": "markdown",
   "id": "7af3ab3d-3331-4497-bafc-143fa25600ee",
   "metadata": {},
   "source": [
    "#### Automating getting the S&P 500 list"
   ]
  },
  {
   "cell_type": "code",
   "execution_count": null,
   "id": "d21cf5e5-ecd5-41e8-a675-a26233fa2631",
   "metadata": {},
   "outputs": [],
   "source": [
    "import bs4 as bs\n",
    "import pickle  #serializes any python object\n",
    "import requests\n",
    "\n",
    "def save_sp500_tickers():\n",
    "    resp = requests.get('https://en.wikipedia.org/wiki/List_of_S%26P_500_companies')\n",
    "    soup = bs.BeautifulSoup(resp.text,'lxml')\n",
    "    table = soup.find('table',{'class':'wikitable sortable'})\n",
    "    tickers = []\n",
    "    for row in table.findAll('tr')[1:]:\n",
    "        ticker = row.findAll('td')[0].text # .text cause it's a soup object and we want it to be strings of py\n",
    "        tickers.append(ticker)\n",
    "    \n",
    "    with open('sp500tickers.pickle','wb') as f:\n",
    "        pickle.dump(tickers,f)\n",
    "    \n",
    "    print(tickers)\n",
    "    \n",
    "    return tickers\n",
    "    \n",
    "save_sp500_tickers()\n",
    "        \n",
    "\n",
    "        "
   ]
  },
  {
   "cell_type": "code",
   "execution_count": null,
   "id": "f1f4477d-1fe7-4103-a4ef-aa41e3806eee",
   "metadata": {},
   "outputs": [],
   "source": [
    "import datetime as dt\n",
    "import os \n",
    "import pandas as pd\n",
    "import pandas_datareader.data as web"
   ]
  },
  {
   "cell_type": "code",
   "execution_count": 1,
   "id": "d109ba5d-8be8-4987-9b8e-5fb2cbda392f",
   "metadata": {},
   "outputs": [
    {
     "name": "stderr",
     "output_type": "stream",
     "text": [
      "/home/spooderman/.local/lib/python3.9/site-packages/fix_yahoo_finance/__init__.py:0: DeprecationWarning: \n",
      "\n",
      "*** `fix_yahoo_finance` was renamed to `yfinance`. ***\n",
      "Please install and use `yfinance` directly using `pip install yfinance -U`\n",
      "\n",
      "More information: https://github.com/ranaroussi/yfinance\n",
      "\n"
     ]
    },
    {
     "name": "stdout",
     "output_type": "stream",
     "text": [
      "MMM\n",
      "Already have MMM\n",
      "ABT\n",
      "Already have ABT\n",
      "ABBV\n",
      "Already have ABBV\n",
      "ABMD\n",
      "Already have ABMD\n",
      "ACN\n",
      "Already have ACN\n",
      "ATVI\n",
      "Already have ATVI\n",
      "ADBE\n",
      "Already have ADBE\n",
      "AMD\n",
      "Already have AMD\n",
      "AAP\n",
      "Already have AAP\n",
      "AES\n",
      "Already have AES\n"
     ]
    }
   ],
   "source": [
    "import bs4 as bs\n",
    "import datetime as dt\n",
    "import os\n",
    "from pandas_datareader import data as pdr\n",
    "import pickle\n",
    "import requests\n",
    "import fix_yahoo_finance as yf\n",
    "\n",
    "#yf.pdr_override()\n",
    "\n",
    "def save_sp500_tickers():\n",
    "    resp = requests.get('http://en.wikipedia.org/wiki/List_of_S%26P_500_companies')\n",
    "    soup = bs.BeautifulSoup(resp.text, 'lxml')\n",
    "    table = soup.find('table', {'class': 'wikitable sortable'})\n",
    "    tickers = []\n",
    "    for row in table.findAll('tr')[1:]:\n",
    "        ticker = row.findAll('td')[0].text.replace('.', '-')\n",
    "        ticker = ticker[:-1]\n",
    "        tickers.append(ticker)\n",
    "    with open(\"sp500tickers.pickle\", \"wb\") as f:\n",
    "        pickle.dump(tickers, f)\n",
    "    return tickers\n",
    "\n",
    "\n",
    "# save_sp500_tickers()\n",
    "def get_data_from_yahoo(reload_sp500=False):\n",
    "    if reload_sp500:\n",
    "        tickers = save_sp500_tickers()\n",
    "    else:\n",
    "        with open(\"sp500tickers.pickle\", \"rb\") as f:\n",
    "            tickers = pickle.load(f)\n",
    "    if not os.path.exists('stock_dfs'):\n",
    "        os.makedirs('stock_dfs')\n",
    "    start = dt.datetime(2019, 6, 8)\n",
    "    end = dt.datetime.now()\n",
    "    for ticker in tickers[:10]:\n",
    "        print(ticker)\n",
    "        if not os.path.exists('stock_dfs/{}.csv'.format(ticker)):\n",
    "            df = pdr.get_data_yahoo(ticker, start, end)\n",
    "            df.reset_index(inplace=True)\n",
    "            df.set_index(\"Date\", inplace=True)\n",
    "            df.to_csv('stock_dfs/{}.csv'.format(ticker))\n",
    "        else:\n",
    "            print('Already have {}'.format(ticker))\n",
    "\n",
    "\n",
    "save_sp500_tickers()\n",
    "get_data_from_yahoo()"
   ]
  },
  {
   "cell_type": "markdown",
   "id": "66ad39a4-04bd-494d-a72e-2d1e92d7238b",
   "metadata": {},
   "source": [
    "#### Combining S&P 500 into one DataFrame\n"
   ]
  },
  {
   "cell_type": "code",
   "execution_count": null,
   "id": "e8e841cf-bd53-4374-a386-2ba2eed145f1",
   "metadata": {},
   "outputs": [],
   "source": [
    "def compile_data():\n",
    "    with open('sp500tickers.pickle','rb') as f:\n",
    "        tickers = pickle.load(f)\n",
    "        \n",
    "    main_df = pd.DataFrame()\n",
    "    \n",
    "    for ticker in tickers[:10]: #enumerate means counting through range len of smth\n",
    "        df = pd.read_csv('stock_dfs/{}.csv'.format(ticker))\n",
    "        df.set_index('Date',inplace = True)\n",
    "        \n",
    "        df.rename(columns = {'Adj Close':ticker},inplace = True)\n",
    "        df.drop(['Open','Close','High','Low','Volume'],1,inplace = True)\n",
    "        \n",
    "        if main_df.empty:\n",
    "            main_df = df\n",
    "        else:\n",
    "            main_df = main_df.join(df,how='outer') #helps us not to loose data for anybody\n",
    "            \n",
    "        #if count%2 == 0:\n",
    "            #print(count)\n",
    "            \n",
    "    print(main_df.head())\n",
    "    main_df.to_csv('sp500_joined_closes.csv')\n",
    "    \n",
    "\n",
    "compile_data()\n",
    "        "
   ]
  },
  {
   "cell_type": "code",
   "execution_count": null,
   "id": "317059c5-af94-471d-b0f4-62fe4c8351f0",
   "metadata": {},
   "outputs": [],
   "source": []
  },
  {
   "cell_type": "markdown",
   "id": "fa7e3d0f-a8ef-4138-a63e-5885640c653c",
   "metadata": {},
   "source": [
    "#### S&P 500 company correlation table\n"
   ]
  },
  {
   "cell_type": "code",
   "execution_count": null,
   "id": "bd1581e6-2f79-4a94-86bb-5a5d16dd42b6",
   "metadata": {},
   "outputs": [],
   "source": [
    "def visualize_data():\n",
    "    df = pd.read_csv('sp500_joined_closes.csv')\n",
    "    #df['AMD'].plot()\n",
    "    df_corr = df.corr()\n",
    "    print(df_corr.head())\n",
    "    \n",
    "visualize_data()"
   ]
  },
  {
   "cell_type": "code",
   "execution_count": null,
   "id": "84cada84-1f93-40be-a215-f8dddde3e710",
   "metadata": {},
   "outputs": [],
   "source": [
    "import numpy as np  \n",
    "def visualize_data():\n",
    "    #df = pd.read_csv('sp500_joined_closes.csv')\n",
    "    #df['AMD'].plot()\n",
    "    #df_corr = df.corr()\n",
    "    \n",
    "    df = pd.read_csv('sp500_joined_closes.csv') \n",
    "    df.set_index('Date', inplace=True) \n",
    "    df_corr = df.pct_change().corr() #in finance we calculate correlations between\n",
    "                                     #stock returns and not stock prices,as returns \n",
    "                                     #tend to follow normal distribution and prices don't\n",
    "    print(df_corr.head())\n",
    "    \n",
    "    data = df_corr.values  #gives numpy array for rows and columns\n",
    "    \n",
    "    fig = plt.figure()\n",
    "    ax=fig.add_subplot(111)\n",
    "    \n",
    "    heatmap = ax.pcolor(data, cmap=plt.cm.RdYlGn)\n",
    "    fig.colorbar(heatmap)\n",
    "    \n",
    "    ax.set_xticks(np.arange(data.shape[0])+0.5,minor=False)\n",
    "    ax.set_yticks(np.arange(data.shape[1])+0.5,minor=False)\n",
    "\n",
    "    ax.invert_yaxis() # in most cases there's a gap in matplot graph which doesnot make sense in heatmap\n",
    "    ax.xaxis.tick_top() #puts labels into top\n",
    "    \n",
    "    column_labels = df_corr.columns\n",
    "    row_labels = df_corr.index\n",
    "    \n",
    "    ax.set_xtickslabels(column_labels)\n",
    "    ax.set_ytickslabels(row_labels)\n",
    "    \n",
    "    plt.xticks(rotation=90)\n",
    "    heatmap.set_clim(-1,1) # heatmap color limit\n",
    "    plt.tight_layout()\n",
    "    \n",
    "visualize_data()"
   ]
  },
  {
   "cell_type": "code",
   "execution_count": null,
   "id": "91dd85cc-575d-4bb3-bd11-4409262e09ce",
   "metadata": {},
   "outputs": [],
   "source": []
  },
  {
   "cell_type": "markdown",
   "id": "22310c56-df89-4d50-b7fb-f8f0fc0455b7",
   "metadata": {},
   "source": [
    "#### Preprocessing data for Machine Learning"
   ]
  },
  {
   "cell_type": "code",
   "execution_count": null,
   "id": "c9d21d6a-a8da-4e8d-bfd3-2793b879014d",
   "metadata": {},
   "outputs": [],
   "source": [
    "def process_data_for_labels(ticker):\n",
    "    hm_days = 7\n",
    "    df = pd.read_csv('sp500_joined_closes.csv',index_col=0)\n",
    "    tickers = df.columns.values.tolist()\n",
    "    df.fillna(0,inplace=True)\n",
    "    \n",
    "    for i in range(hm_days+1):\n",
    "        df['{}_{}d'.format(ticker,i)] = (df[ticker].shift(-i)-df[ticker])/df[ticker] #shifting negative to get future data\n",
    "        \n",
    "    df.fillna(0,inplace=True)\n",
    "    return ticker,df\n",
    "\n",
    "process_data_for_labels('AMD')    "
   ]
  },
  {
   "cell_type": "code",
   "execution_count": null,
   "id": "84bcc62d-1b32-4869-a67d-54414484ebc7",
   "metadata": {},
   "outputs": [],
   "source": []
  },
  {
   "cell_type": "markdown",
   "id": "6e215871-07c0-4a44-85d3-fa9216870d07",
   "metadata": {},
   "source": [
    "#### Creating machine learning target function"
   ]
  },
  {
   "cell_type": "code",
   "execution_count": null,
   "id": "7fddb50e-22af-4322-92a6-e9397898e340",
   "metadata": {},
   "outputs": [],
   "source": [
    "def buy_sell_hold(*args):#allows us to pass any number of parameters\n",
    "    cols = [c for c in args]\n",
    "    requirement = 0.02\n",
    "    \n",
    "    for col in cols:\n",
    "        if col > requirement:\n",
    "            return 1 #buy\n",
    "        if col<-requirement:\n",
    "            return -1 #sell\n",
    "    return 0 #hold "
   ]
  },
  {
   "cell_type": "code",
   "execution_count": null,
   "id": "8861c368-8ead-4323-9e3e-efd34fb71dcf",
   "metadata": {},
   "outputs": [],
   "source": []
  },
  {
   "cell_type": "markdown",
   "id": "50c5537e-153f-4456-9d3a-7c8b9564cb22",
   "metadata": {},
   "source": [
    "#### Creating labels for Machine Learning"
   ]
  },
  {
   "cell_type": "code",
   "execution_count": null,
   "id": "71b6b821-360f-4b00-b5f2-86f2643d5e51",
   "metadata": {},
   "outputs": [],
   "source": [
    "from collections import Counter\n",
    "def extract_featuresets(ticker):\n",
    "    tickers,df = process_data_for_labels(ticker)\n",
    "    df['{}_target'.format(ticker)] = list(map(buy_sell_hold,df['{}_1d'.format(ticker)], #after hold all these are \n",
    "                                                            df['{}_2d'.format(ticker)], #parameters that's how\n",
    "                                                            df['{}_3d'.format(ticker)], #mapping works\n",
    "                                                            df['{}_4d'.format(ticker)],\n",
    "                                                            df['{}_5d'.format(ticker)],\n",
    "                                                            df['{}_6d'.format(ticker)],\n",
    "                                                            df['{}_7d'.format(ticker)]))\n",
    "                                          \n",
    "    vals = df['{}_target'.format(ticker)].values.tolist()\n",
    "    str_vals = [str(i) for i in vals]\n",
    "    print('Data spread:',Counter(str_vals)) #this will give us distribution\n",
    "                                          \n",
    "    df.fillna(0,inplace=True)\n",
    "    df = df.replace([np.inf,-np.inf],np.NaN)\n",
    "    df.dropna(inplace=True)\n",
    "    \n",
    "    df_vals = df[[ticker for ticker in tickers]].pct_change() #normalize\n",
    "    df_vals = df_vals.replace([np.inf,-np.inf],0)\n",
    "    df_vals.fillna(0,inplace=True)\n",
    "                                          \n",
    "    X = df_vals.values\n",
    "    y = df['{}_target'.format(ticker)].values\n",
    "                                          \n",
    "    return X, y, df\n",
    "                                          \n",
    "extract_featuresets('AMD')"
   ]
  },
  {
   "cell_type": "code",
   "execution_count": null,
   "id": "dca090cd-553d-4601-b0db-b6442fe19973",
   "metadata": {},
   "outputs": [],
   "source": []
  },
  {
   "cell_type": "markdown",
   "id": "a36de18f-7fd2-41c3-abef-71dabf797340",
   "metadata": {},
   "source": [
    "#### Machine learning"
   ]
  },
  {
   "cell_type": "code",
   "execution_count": null,
   "id": "34756d5f-d88d-485e-aeb0-90aeb285b934",
   "metadata": {},
   "outputs": [],
   "source": [
    "#from sklearn import svm, cross_validation, neighbors\n",
    "from sklearn import svm, neighbors\n",
    "from sklearn.model_selection import train_test_split \n",
    "from sklearn.ensemble import VotingClassifier,RandomForestClassifier\n",
    "\n",
    "#The svm import is for a Support Vector Machine, cross_validation will\n",
    "#let us easily create shuffled training and testing samples, and neighbors is for K Nearest Neighbors. \n",
    "\n",
    "#The voting classifier is just what it sounds like. Basically, it's a classifier that will let us combine\n",
    "#many classifiers, and allow them to each get a \"vote\" on what they think the class of the featuresets is. \n",
    "#The random forest classifier is just another classifier. We're going to use three classifiers in our voting \n",
    "#classifier."
   ]
  },
  {
   "cell_type": "code",
   "execution_count": null,
   "id": "cdeb28c8-22a7-426e-8031-098fb027bf50",
   "metadata": {},
   "outputs": [],
   "source": [
    "def do_ml(ticker):\n",
    "    X, y, df = extract_featuresets(ticker)\n",
    "    X_train, X_test, y_train, y_test = train_test_split(X,y,test_size=0.25) #25% of our sample data will test against \n",
    "                                                                            # which will give accurancy\n",
    "    \n",
    "    clf = neighbors.KNeighborsClassifier() #defined our classifier\n",
    "    clf.fit(X_train,Y_train) #X is the %change data for all company\n",
    "                             #Y is the target hold,buy or sell\n",
    "    # use the classifier that will fit input data to the target we're setting\n",
    "    confidence = clf.score(X_test,y_test)\n",
    "    predictions = clf.predict(X_test)\n",
    "    \n",
    "    print('Predicted spread:',Counter(predictions))\n",
    "    \n",
    "    return confidence\n",
    "\n",
    "do_ml('AMD')"
   ]
  },
  {
   "cell_type": "code",
   "execution_count": null,
   "id": "45250d82-c53a-4bf1-bd6b-4ddf9dd0f012",
   "metadata": {},
   "outputs": [],
   "source": []
  },
  {
   "cell_type": "code",
   "execution_count": 32,
   "id": "b812be91-114f-4218-99d5-984241aa1aed",
   "metadata": {},
   "outputs": [
    {
     "name": "stdout",
     "output_type": "stream",
     "text": [
      "Data spread: Counter({'1': 257, '-1': 205, '0': 14})\n",
      "accuracy: 0.48739495798319327\n",
      "predicted class counts: Counter({1: 94, -1: 25})\n",
      "\n",
      "\n"
     ]
    },
    {
     "data": {
      "text/plain": [
       "0.48739495798319327"
      ]
     },
     "execution_count": 32,
     "metadata": {},
     "output_type": "execute_result"
    }
   ],
   "source": [
    "import bs4 as bs\n",
    "import datetime as dt\n",
    "import matplotlib.pyplot as plt\n",
    "from matplotlib import style\n",
    "import numpy as np\n",
    "import os\n",
    "import pandas as pd\n",
    "import pandas_datareader.data as web\n",
    "import pickle\n",
    "import requests\n",
    "from collections import Counter\n",
    "from sklearn import svm, neighbors\n",
    "from sklearn.model_selection import train_test_split \n",
    "from sklearn.ensemble import VotingClassifier, RandomForestClassifier\n",
    "\n",
    "\n",
    "style.use('ggplot')\n",
    "\n",
    "\n",
    "def save_sp500_tickers():\n",
    "    resp = requests.get('http://en.wikipedia.org/wiki/List_of_S%26P_500_companies')\n",
    "    soup = bs.BeautifulSoup(resp.text, 'lxml')\n",
    "    table = soup.find('table', {'class': 'wikitable sortable'})\n",
    "    tickers = []\n",
    "    for row in table.findAll('tr')[1:]:\n",
    "        ticker = row.findAll('td')[0].text\n",
    "        tickers.append(ticker)\n",
    "    with open(\"sp500tickers.pickle\", \"wb\") as f:\n",
    "        pickle.dump(tickers, f)\n",
    "    return tickers\n",
    "\n",
    "\n",
    "# save_sp500_tickers()\n",
    "def get_data_from_yahoo(reload_sp500=False):\n",
    "    if reload_sp500:\n",
    "        tickers = save_sp500_tickers()\n",
    "    else:\n",
    "        with open(\"sp500tickers.pickle\", \"rb\") as f:\n",
    "            tickers = pickle.load(f)\n",
    "    if not os.path.exists('stock_dfs'):\n",
    "        os.makedirs('stock_dfs')\n",
    "\n",
    "    start = dt.datetime(2010, 1, 1)\n",
    "    end = dt.datetime.now()\n",
    "    for ticker in tickers:\n",
    "        # just in case your connection breaks, we'd like to save our progress!\n",
    "        if not os.path.exists('stock_dfs/{}.csv'.format(ticker)):\n",
    "            df = web.DataReader(ticker, 'morningstar', start, end)\n",
    "            df.reset_index(inplace=True)\n",
    "            df.set_index(\"Date\", inplace=True)\n",
    "            df = df.drop(\"Symbol\", axis=1)\n",
    "            df.to_csv('stock_dfs/{}.csv'.format(ticker))\n",
    "        else:\n",
    "            print('Already have {}'.format(ticker))\n",
    "\n",
    "\n",
    "def compile_data():\n",
    "    with open(\"sp500tickers.pickle\", \"rb\") as f:\n",
    "        tickers = pickle.load(f)\n",
    "\n",
    "    main_df = pd.DataFrame()\n",
    "\n",
    "    for count, ticker in enumerate(tickers):\n",
    "        df = pd.read_csv('stock_dfs/{}.csv'.format(ticker))\n",
    "        df.set_index('Date', inplace=True)\n",
    "\n",
    "        df.rename(columns={'Adj Close': ticker}, inplace=True)\n",
    "        df.drop(['Open', 'High', 'Low', 'Close', 'Volume'], 1, inplace=True)\n",
    "\n",
    "        if main_df.empty:\n",
    "            main_df = df\n",
    "        else:\n",
    "            main_df = main_df.join(df, how='outer')\n",
    "\n",
    "        if count % 10 == 0:\n",
    "            print(count)\n",
    "    print(main_df.head())\n",
    "    main_df.to_csv('sp500_joined_closes.csv')\n",
    "\n",
    "\n",
    "def visualize_data():\n",
    "    df = pd.read_csv('sp500_joined_closes.csv')\n",
    "    df_corr = df.corr()\n",
    "    print(df_corr.head())\n",
    "    df_corr.to_csv('sp500corr.csv')\n",
    "    data1 = df_corr.values\n",
    "    fig1 = plt.figure()\n",
    "    ax1 = fig1.add_subplot(111)\n",
    "\n",
    "    heatmap1 = ax1.pcolor(data1, cmap=plt.cm.RdYlGn)\n",
    "    fig1.colorbar(heatmap1)\n",
    "\n",
    "    ax1.set_xticks(np.arange(data1.shape[1]) + 0.5, minor=False)\n",
    "    ax1.set_yticks(np.arange(data1.shape[0]) + 0.5, minor=False)\n",
    "    ax1.invert_yaxis()\n",
    "    ax1.xaxis.tick_top()\n",
    "    column_labels = df_corr.columns\n",
    "    row_labels = df_corr.index\n",
    "    ax1.set_xticklabels(column_labels)\n",
    "    ax1.set_yticklabels(row_labels)\n",
    "    plt.xticks(rotation=90)\n",
    "    heatmap1.set_clim(-1, 1)\n",
    "    plt.tight_layout()\n",
    "    plt.show()\n",
    "\n",
    "\n",
    "def process_data_for_labels(ticker):\n",
    "    hm_days = 7\n",
    "    df = pd.read_csv('sp500_joined_closes.csv', index_col=0)\n",
    "    tickers = df.columns.values.tolist()\n",
    "    df.fillna(0, inplace=True)\n",
    "    for i in range(1, hm_days+1):\n",
    "        df['{}_{}d'.format(ticker, i)] = (df[ticker].shift(-i) - df[ticker]) / df[ticker]\n",
    "    df.fillna(0, inplace=True)\n",
    "    return tickers, df\n",
    "\n",
    "\n",
    "def buy_sell_hold(*args):\n",
    "    cols = [c for c in args]\n",
    "    requirement = 0.02\n",
    "    for col in cols:\n",
    "        if col > requirement:\n",
    "            return 1\n",
    "        if col < -requirement:\n",
    "            return -1\n",
    "    return 0\n",
    "\n",
    "\n",
    "def extract_featuresets(ticker):\n",
    "    tickers, df = process_data_for_labels(ticker)\n",
    "\n",
    "    df['{}_target'.format(ticker)] = list(map( buy_sell_hold,\n",
    "                                               df['{}_1d'.format(ticker)],\n",
    "                                               df['{}_2d'.format(ticker)],\n",
    "                                               df['{}_3d'.format(ticker)],\n",
    "                                               df['{}_4d'.format(ticker)],\n",
    "                                               df['{}_5d'.format(ticker)],\n",
    "                                               df['{}_6d'.format(ticker)],\n",
    "                                               df['{}_7d'.format(ticker)]))\n",
    "\n",
    "    vals = df['{}_target'.format(ticker)].values.tolist()\n",
    "    str_vals = [str(i) for i in vals]\n",
    "    print('Data spread:', Counter(str_vals))\n",
    "\n",
    "    df.fillna(0, inplace=True)\n",
    "    df = df.replace([np.inf, -np.inf], np.nan)\n",
    "    df.dropna(inplace=True)\n",
    "\n",
    "    df_vals = df[[ticker for ticker in tickers]].pct_change()\n",
    "    df_vals = df_vals.replace([np.inf, -np.inf], 0)\n",
    "    df_vals.fillna(0, inplace=True)\n",
    "\n",
    "    X = df_vals.values\n",
    "    y = df['{}_target'.format(ticker)].values\n",
    "    return X, y, df\n",
    "\n",
    "\n",
    "def do_ml(ticker):\n",
    "    X, y, df = extract_featuresets(ticker)\n",
    "\n",
    "    X_train, X_test, y_train, y_test = train_test_split(X,y,test_size=0.25)\n",
    "\n",
    "    clf = VotingClassifier([('lsvc', svm.LinearSVC()),\n",
    "                            ('knn', neighbors.KNeighborsClassifier()),\n",
    "                            ('rfor', RandomForestClassifier())])\n",
    "\n",
    "    clf.fit(X_train, y_train)\n",
    "    confidence = clf.score(X_test, y_test)\n",
    "    print('accuracy:', confidence)\n",
    "    predictions = clf.predict(X_test)\n",
    "    print('predicted class counts:', Counter(predictions))\n",
    "    print()\n",
    "    print()\n",
    "    return confidence\n",
    "\n",
    "\n",
    "# examples of running:\n",
    "#do_ml('XOM')\n",
    "#do_ml('AAPL')\n",
    "#do_ml('ABT')\n",
    "do_ml('AMD')"
   ]
  }
 ],
 "metadata": {
  "kernelspec": {
   "display_name": "Python 3",
   "language": "python",
   "name": "python3"
  },
  "language_info": {
   "codemirror_mode": {
    "name": "ipython",
    "version": 3
   },
   "file_extension": ".py",
   "mimetype": "text/x-python",
   "name": "python",
   "nbconvert_exporter": "python",
   "pygments_lexer": "ipython3",
   "version": "3.9.2"
  }
 },
 "nbformat": 4,
 "nbformat_minor": 5
}
