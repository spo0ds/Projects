{
 "cells": [
  {
   "cell_type": "code",
   "execution_count": null,
   "id": "a3f666a5-a10a-453e-8486-5ab1247fb4da",
   "metadata": {},
   "outputs": [],
   "source": [
    "import pandas as pd\n",
    "import seaborn as sns\n",
    "import numpy as np"
   ]
  },
  {
   "cell_type": "code",
   "execution_count": null,
   "id": "8365ef29-0a56-4952-8d7f-6e3b65a5eb46",
   "metadata": {},
   "outputs": [],
   "source": [
    "# IGI \n",
    "# ADBL *\n",
    "# AHPC\n",
    "# AIL *\n",
    "# AKJCL *\n",
    "# AKPL *\n",
    "# BARUN -\n",
    "# BPCL -\n",
    "# NLG -\n",
    "# PICL\n",
    "# NICLBSL\n",
    "# RLI\n",
    "# NIFRA\n",
    "\n",
    "# HIDCL\n",
    "\n",
    "url = 'http://nepalstockinfo.com/companyhistory/NABIL'\n",
    "dfs = pd.read_html(url, parse_dates=True, index_col=1)"
   ]
  },
  {
   "cell_type": "code",
   "execution_count": null,
   "id": "1e575a6c-4be2-40d9-892c-53b74b0ccf50",
   "metadata": {},
   "outputs": [],
   "source": [
    "nbl_df = dfs[16]\n",
    "nbl_df.head()"
   ]
  },
  {
   "cell_type": "code",
   "execution_count": null,
   "id": "f2a214e0-f187-4f35-ba31-388e2e4674c0",
   "metadata": {},
   "outputs": [],
   "source": [
    "nbl_df.tail()"
   ]
  },
  {
   "cell_type": "code",
   "execution_count": null,
   "id": "474c510a-c179-4457-a40c-33e5fcaa36bd",
   "metadata": {},
   "outputs": [],
   "source": [
    "nbl_df = nbl_df.sort_values(['Date'], ascending=True)\n",
    "nbl_df.head()"
   ]
  },
  {
   "cell_type": "code",
   "execution_count": null,
   "id": "fb51ff84-f736-4843-b30b-d9dc4eb0d2b7",
   "metadata": {},
   "outputs": [],
   "source": [
    "nbl_df.tail(20)"
   ]
  },
  {
   "cell_type": "code",
   "execution_count": null,
   "id": "3daa5bc9-37c6-4fe4-a261-f4fadf375fb7",
   "metadata": {},
   "outputs": [],
   "source": [
    "sns.lineplot(data=nbl_df['Price'])"
   ]
  },
  {
   "cell_type": "code",
   "execution_count": null,
   "id": "f64f2c36-869b-4bf5-bccd-242f53bac82c",
   "metadata": {},
   "outputs": [],
   "source": [
    "nbl_df['100ma'] = nbl_df['Price'].rolling(window = 100,min_periods = 0).mean()\n",
    "nbl_df.head()"
   ]
  },
  {
   "cell_type": "code",
   "execution_count": null,
   "id": "15a54aa6-9274-451e-a354-055239934a13",
   "metadata": {},
   "outputs": [],
   "source": [
    "nbl_df.drop(['S.N','Prev Price','Change','Max Price','Min Price','Transaction', 'Volume', 'Amount', '100ma'],1,inplace = True)\n",
    "nbl_df.head()"
   ]
  },
  {
   "cell_type": "code",
   "execution_count": null,
   "id": "d3fa3dc5-f74a-4dc3-aedf-2785f1e4ff78",
   "metadata": {},
   "outputs": [],
   "source": [
    "nbl_df_corr = nbl_df.corr()\n",
    "nbl_df_corr.head()"
   ]
  },
  {
   "cell_type": "code",
   "execution_count": null,
   "id": "9c5ed011-525b-4f14-99ad-fa2a7f32e4c2",
   "metadata": {},
   "outputs": [],
   "source": [
    "nbl_df_corr = nbl_df.pct_change().corr()\n",
    "nbl_df_corr.head()"
   ]
  },
  {
   "cell_type": "code",
   "execution_count": null,
   "id": "d7db9a5d-bb48-416a-bc5d-8d1a5c64285d",
   "metadata": {},
   "outputs": [],
   "source": [
    "def process_data_for_labels(df):\n",
    "    hm_days = 7\n",
    "    tickers = df.columns.values.tolist()\n",
    "    df.fillna(0,inplace=True)\n",
    "    \n",
    "    for i in range(hm_days+1):\n",
    "        df['nbl_shift'] = (df['Price'].shift(-i)-df['Price'])/df['Price'] #shifting negative to get future data\n",
    "        \n",
    "    df.fillna(0,inplace=True)\n",
    "    return df\n",
    "\n",
    "process_data_for_labels(nbl_df)    "
   ]
  },
  {
   "cell_type": "code",
   "execution_count": null,
   "id": "5b280822-c9b8-4133-b10b-6034c4173654",
   "metadata": {},
   "outputs": [],
   "source": [
    "def buy_sell_hold(*args):#allows us to pass any number of parameters\n",
    "    cols = [c for c in args]\n",
    "    requirement = 0.01\n",
    "    \n",
    "    for col in cols:\n",
    "        if col > requirement:\n",
    "            return 1 #buy\n",
    "        if col < requirement:\n",
    "            return -1 #sell\n",
    "    return 0 #hold "
   ]
  },
  {
   "cell_type": "code",
   "execution_count": null,
   "id": "dc54e379-5de9-4fe9-8f96-8ffe8a54db60",
   "metadata": {},
   "outputs": [],
   "source": [
    "from collections import Counter\n",
    "def extract_featuresets(df):\n",
    "    df = process_data_for_labels(df)\n",
    "    df['label_target'] = list(map(buy_sell_hold,df['nbl_shift']))\n",
    "                                          \n",
    "    vals = df['label_target'].values.tolist()\n",
    "    str_vals = [str(i) for i in vals]\n",
    "    print('Data spread:',Counter(str_vals)) #this will give us distribution\n",
    "                                          \n",
    "    df.fillna(0,inplace=True)\n",
    "    df = df.replace([np.inf,-np.inf],np.NaN)\n",
    "    df.dropna(inplace=True)\n",
    "    \n",
    "    df_vals = df.pct_change() #normalize\n",
    "    df_vals = df_vals.replace([np.inf,-np.inf],0)\n",
    "    df_vals.fillna(0,inplace=True)\n",
    "                                          \n",
    "    X = df_vals.values\n",
    "    y = df['label_target'].values\n",
    "                                          \n",
    "    return X, y, df\n",
    "                                          \n",
    "extract_featuresets(nbl_df)"
   ]
  },
  {
   "cell_type": "code",
   "execution_count": null,
   "id": "5be05f84-5341-4713-b744-b5a570042960",
   "metadata": {},
   "outputs": [],
   "source": [
    "#from sklearn import svm, cross_validation, neighbors\n",
    "from sklearn import svm, neighbors\n",
    "from sklearn.model_selection import train_test_split \n",
    "from sklearn.ensemble import VotingClassifier,RandomForestClassifier\n",
    "\n",
    "#The svm import is for a Support Vector Machine, cross_validation will\n",
    "#let us easily create shuffled training and testing samples, and neighbors is for K Nearest Neighbors. \n",
    "\n",
    "#The voting classifier is just what it sounds like. Basically, it's a classifier that will let us combine\n",
    "#many classifiers, and allow them to each get a \"vote\" on what they think the class of the featuresets is. \n",
    "#The random forest classifier is just another classifier. We're going to use three classifiers in our voting \n",
    "#classifier."
   ]
  },
  {
   "cell_type": "code",
   "execution_count": null,
   "id": "a6676d6e-caec-4e89-9b7e-978d7c21e168",
   "metadata": {},
   "outputs": [],
   "source": [
    "def do_ml(df):\n",
    "    X, y, df = extract_featuresets(df)\n",
    "    X_train, X_test, y_train, y_test = train_test_split(X,y,test_size=0.25) #25% of our sample data will test against \n",
    "                                                                            # which will give accurancy\n",
    "    \n",
    "    clf = neighbors.KNeighborsClassifier() #defined our classifier\n",
    "    clf.fit(X_train,y_train) #X is the %change data for all company\n",
    "                             #Y is the target hold,buy or sell\n",
    "    # use the classifier that will fit input data to the target we're setting\n",
    "    confidence = clf.score(X_test,y_test)\n",
    "    predictions = clf.predict(X_test)\n",
    "    \n",
    "    print('Predicted spread:',Counter(predictions))\n",
    "    \n",
    "    return confidence\n",
    "\n",
    "do_ml(nbl_df)"
   ]
  },
  {
   "cell_type": "code",
   "execution_count": null,
   "id": "f68949ef-9c96-42b7-8170-6d9cdfa5ec5d",
   "metadata": {},
   "outputs": [],
   "source": []
  }
 ],
 "metadata": {
  "kernelspec": {
   "display_name": "Python 3",
   "language": "python",
   "name": "python3"
  },
  "language_info": {
   "codemirror_mode": {
    "name": "ipython",
    "version": 3
   },
   "file_extension": ".py",
   "mimetype": "text/x-python",
   "name": "python",
   "nbconvert_exporter": "python",
   "pygments_lexer": "ipython3",
   "version": "3.9.2"
  }
 },
 "nbformat": 4,
 "nbformat_minor": 5
}
